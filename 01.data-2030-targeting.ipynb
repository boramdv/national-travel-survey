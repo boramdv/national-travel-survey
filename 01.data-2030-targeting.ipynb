{
 "cells": [
  {
   "cell_type": "code",
   "execution_count": 24,
   "id": "01f22740-0bf0-416c-9d28-d9c2562e142e",
   "metadata": {},
   "outputs": [],
   "source": [
    "import numpy as np\n",
    "import pandas as pd\n",
    "import matplotlib.pyplot as plt\n",
    "import seaborn as sns"
   ]
  },
  {
   "cell_type": "code",
   "execution_count": 3,
   "id": "a421ceb1-5b84-4b39-b8c9-de8b207fc804",
   "metadata": {},
   "outputs": [],
   "source": [
    "# 1차 데이터 별도 명명\n",
    "data = pd.read_csv('2020_Domestic_Tour.csv', encoding='utf-8')"
   ]
  },
  {
   "cell_type": "code",
   "execution_count": 33,
   "id": "553a30c3-a4dc-4ffb-a088-6390b5c6077c",
   "metadata": {},
   "outputs": [
    {
     "data": {
      "text/plain": [
       "(15505, 2259)"
      ]
     },
     "execution_count": 33,
     "metadata": {},
     "output_type": "execute_result"
    }
   ],
   "source": [
    "df = data\n",
    "df.shape"
   ]
  },
  {
   "cell_type": "markdown",
   "id": "ea3654f4-49e4-48fe-a51a-eedadb0075a0",
   "metadata": {},
   "source": [
    "### 타겟 2030대로 한정"
   ]
  },
  {
   "cell_type": "code",
   "execution_count": 21,
   "id": "98cbc892-3c0e-4691-a294-e2f7eae81dfa",
   "metadata": {},
   "outputs": [
    {
     "data": {
      "text/plain": [
       "count    15505.000000\n",
       "mean         3.759110\n",
       "std          1.499683\n",
       "min          1.000000\n",
       "25%          3.000000\n",
       "50%          4.000000\n",
       "75%          5.000000\n",
       "max          7.000000\n",
       "Name: BAGE, dtype: float64"
      ]
     },
     "execution_count": 21,
     "metadata": {},
     "output_type": "execute_result"
    }
   ],
   "source": [
    "df['BAGE'].describe()"
   ]
  },
  {
   "cell_type": "code",
   "execution_count": 26,
   "id": "b912e9b0-91ae-4f51-96c5-86572a29e4c0",
   "metadata": {},
   "outputs": [
    {
     "data": {
      "text/plain": [
       "<seaborn.axisgrid.FacetGrid at 0x1b97be8cd88>"
      ]
     },
     "execution_count": 26,
     "metadata": {},
     "output_type": "execute_result"
    },
    {
     "data": {
      "image/png": "[encoded data removed]",
      "text/plain": [
       "<Figure size 360x360 with 1 Axes>"
      ]
     },
     "metadata": {
      "needs_background": "light"
     },
     "output_type": "display_data"
    }
   ],
   "source": [
    "# 연령대 분포 category\n",
    "sns.displot(df['BAGE'])"
   ]
  },
  {
   "cell_type": "code",
   "execution_count": 27,
   "id": "14fc51d4-1c5e-4dcf-a54f-626c562537f2",
   "metadata": {},
   "outputs": [
    {
     "data": {
      "text/plain": [
       "<seaborn.axisgrid.FacetGrid at 0x1b97f539b48>"
      ]
     },
     "execution_count": 27,
     "metadata": {},
     "output_type": "execute_result"
    },
    {
     "data": {
      "image/png": "[encoded data removed]",
      "text/plain": [
       "<Figure size 360x360 with 1 Axes>"
      ]
     },
     "metadata": {
      "needs_background": "light"
     },
     "output_type": "display_data"
    }
   ],
   "source": [
    "# 연령대 분포 continuous\n",
    "sns.displot(df['SAGE'])"
   ]
  },
  {
   "cell_type": "code",
   "execution_count": 28,
   "id": "7fa9461e-e221-4e64-bfe9-c52f65c499e0",
   "metadata": {},
   "outputs": [],
   "source": [
    "df_age10 = df[df['BAGE'] == 1].index\n",
    "df = df.drop(df_age10)\n",
    "df_age40 = df[df['BAGE'] == 4].index\n",
    "df = df.drop(df_age40)\n",
    "df_age50 = df[df['BAGE'] == 5].index\n",
    "df = df.drop(df_age50)\n",
    "df_age60 = df[df['BAGE'] == 6].index\n",
    "df = df.drop(df_age60)\n",
    "df_age70 = df[df['BAGE'] == 7].index\n",
    "df = df.drop(df_age70)"
   ]
  },
  {
   "cell_type": "code",
   "execution_count": 30,
   "id": "c57aeeb7-b558-4a6b-b22a-de442fed9b8f",
   "metadata": {},
   "outputs": [
    {
     "data": {
      "text/plain": [
       "<seaborn.axisgrid.FacetGrid at 0x1b96b37fbc8>"
      ]
     },
     "execution_count": 30,
     "metadata": {},
     "output_type": "execute_result"
    },
    {
     "data": {
      "image/png": "[encoded data removed]",
      "text/plain": [
       "<Figure size 360x360 with 1 Axes>"
      ]
     },
     "metadata": {
      "needs_background": "light"
     },
     "output_type": "display_data"
    }
   ],
   "source": [
    "# 2030대 분포\n",
    "sns.displot(df['SAGE'])"
   ]
  },
  {
   "cell_type": "code",
   "execution_count": 31,
   "id": "85ae228f-e3e4-4439-b523-70be1849fef9",
   "metadata": {},
   "outputs": [
    {
     "data": {
      "text/plain": [
       "(6432, 2259)"
      ]
     },
     "execution_count": 31,
     "metadata": {},
     "output_type": "execute_result"
    }
   ],
   "source": [
    "df.shape # (6432, 2259)"
   ]
  },
  {
   "cell_type": "code",
   "execution_count": 35,
   "id": "3aa51a8b-6133-4e4e-8153-805b922dfc18",
   "metadata": {},
   "outputs": [],
   "source": [
    "df.to_csv('2020_Domestic_Tour_2030.csv', header=True, index=False, encoding = 'utf-8-sig')"
   ]
  },
  {
   "cell_type": "code",
   "execution_count": null,
   "id": "1e286b25-bd4c-477d-8ed5-548ce418b1ad",
   "metadata": {},
   "outputs": [],
   "source": []
  }
 ],
 "metadata": {
  "kernelspec": {
   "display_name": "Python Multi",
   "language": "python",
   "name": "multi"
  },
  "language_info": {
   "codemirror_mode": {
    "name": "ipython",
    "version": 3
   },
   "file_extension": ".py",
   "mimetype": "text/x-python",
   "name": "python",
   "nbconvert_exporter": "python",
   "pygments_lexer": "ipython3",
   "version": "3.7.6"
  }
 },
 "nbformat": 4,
 "nbformat_minor": 5
}
