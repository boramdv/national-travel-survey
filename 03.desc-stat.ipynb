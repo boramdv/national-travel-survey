{
 "cells": [
  {
   "cell_type": "code",
   "execution_count": 6,
   "id": "b60a808b-11a0-40ee-a6f5-b3b9105091f5",
   "metadata": {},
   "outputs": [],
   "source": [
    "import numpy as np\n",
    "import pandas as pd\n",
    "\n",
    "import matplotlib.pyplot as plt\n",
    "import matplotlib.ticker as mticker\n",
    "\n",
    "import seaborn as sns\n",
    "\n",
    "from sklearn.preprocessing import KBinsDiscretizer"
   ]
  },
  {
   "cell_type": "code",
   "execution_count": 2,
   "id": "bfe88d22-b4a9-4909-97a2-c2526ddfdda5",
   "metadata": {},
   "outputs": [],
   "source": [
    "# 한글 폰트\n",
    "import matplotlib\n",
    "import matplotlib.font_manager as fm\n",
    "font_path = \"C:/Windows/Fonts/NGULIM.TTF\"\n",
    "font = fm.FontProperties(fname=font_path).get_name()\n",
    "matplotlib.rc('font', family=font)\n",
    "\n",
    "# # 한글 폰트2\n",
    "# plt.rc('font', family='NanumBarunGothic') "
   ]
  },
  {
   "cell_type": "code",
   "execution_count": 3,
   "id": "f914f002-4a19-4812-8fc0-f59cfe031a11",
   "metadata": {},
   "outputs": [],
   "source": [
    "df = pd.read_csv('2020_Domestic_Tour_FS.csv', encoding='utf-8')"
   ]
  },
  {
   "cell_type": "code",
   "execution_count": 5,
   "id": "c3d635f3-fa2f-4475-bb2c-77f3d95b26c2",
   "metadata": {},
   "outputs": [
    {
     "data": {
      "text/plain": [
       "(6291, 204)"
      ]
     },
     "execution_count": 5,
     "metadata": {},
     "output_type": "execute_result"
    }
   ],
   "source": [
    "df.shape"
   ]
  },
  {
   "cell_type": "code",
   "execution_count": 6,
   "id": "8fbe87ac-3c84-4738-9747-2f9e326b4cbd",
   "metadata": {
    "collapsed": true,
    "jupyter": {
     "outputs_hidden": true
    },
    "tags": []
   },
   "outputs": [
    {
     "name": "stdout",
     "output_type": "stream",
     "text": [
      "<class 'pandas.core.frame.DataFrame'>\n",
      "RangeIndex: 6291 entries, 0 to 6290\n",
      "Columns: 204 entries, ID to BARA\n",
      "dtypes: float64(154), int64(48), object(2)\n",
      "memory usage: 9.8+ MB\n"
     ]
    }
   ],
   "source": [
    "df.info()"
   ]
  },
  {
   "cell_type": "markdown",
   "id": "06226a75-5bf8-4097-a7fb-2059181901c0",
   "metadata": {},
   "source": [
    "### **2020년 여행 횟수**"
   ]
  },
  {
   "cell_type": "code",
   "execution_count": 7,
   "id": "a7d2c6c2-c527-49ac-8333-dc17252f0acb",
   "metadata": {},
   "outputs": [
    {
     "data": {
      "text/plain": [
       "<seaborn.axisgrid.FacetGrid at 0x1cfe4b8a608>"
      ]
     },
     "execution_count": 7,
     "metadata": {},
     "output_type": "execute_result"
    },
    {
     "data": {
      "image/png": "[encoded data removed]",
      "text/plain": [
       "<Figure size 360x360 with 1 Axes>"
      ]
     },
     "metadata": {
      "needs_background": "light"
     },
     "output_type": "display_data"
    }
   ],
   "source": [
    "# 여행 횟수 hist\n",
    "sns.displot(df['tour_num'])"
   ]
  },
  {
   "cell_type": "code",
   "execution_count": 8,
   "id": "05feb9fc-e1eb-41ba-9c4f-28b0a4be285a",
   "metadata": {},
   "outputs": [
    {
     "data": {
      "text/plain": [
       "count    6291.000000\n",
       "mean        1.030043\n",
       "std         0.190940\n",
       "min         1.000000\n",
       "25%         1.000000\n",
       "50%         1.000000\n",
       "75%         1.000000\n",
       "max         5.000000\n",
       "Name: tour_num, dtype: float64"
      ]
     },
     "execution_count": 8,
     "metadata": {},
     "output_type": "execute_result"
    }
   ],
   "source": [
    "df['tour_num'].describe()"
   ]
  },
  {
   "cell_type": "code",
   "execution_count": 18,
   "id": "4060d8f1-e290-4986-beaa-70bd4a03e294",
   "metadata": {},
   "outputs": [
    {
     "data": {
      "text/plain": [
       "1    6121\n",
       "2     154\n",
       "3      14\n",
       "4       1\n",
       "5       1\n",
       "Name: tour_num, dtype: int64"
      ]
     },
     "execution_count": 18,
     "metadata": {},
     "output_type": "execute_result"
    }
   ],
   "source": [
    "df.tour_num.value_counts()"
   ]
  },
  {
   "cell_type": "code",
   "execution_count": 17,
   "id": "3d916633-332b-4e62-ab15-1743d6ad74e9",
   "metadata": {},
   "outputs": [
    {
     "data": {
      "text/plain": [
       "1    0.972977\n",
       "2    0.024479\n",
       "3    0.002225\n",
       "4    0.000159\n",
       "5    0.000159\n",
       "Name: tour_num, dtype: float64"
      ]
     },
     "execution_count": 17,
     "metadata": {},
     "output_type": "execute_result"
    }
   ],
   "source": [
    "df.tour_num.value_counts(1)"
   ]
  },
  {
   "cell_type": "code",
   "execution_count": 141,
   "id": "a373524c-f52c-4b89-a683-a78b1b079e7a",
   "metadata": {},
   "outputs": [
    {
     "data": {
      "text/plain": [
       "154"
      ]
     },
     "execution_count": 141,
     "metadata": {},
     "output_type": "execute_result"
    }
   ],
   "source": [
    "df.tour_num.value_counts()[2]"
   ]
  },
  {
   "cell_type": "code",
   "execution_count": 143,
   "id": "7e9368b2-4bfd-4a4a-a76a-5e67595e19cd",
   "metadata": {},
   "outputs": [
    {
     "name": "stdout",
     "output_type": "stream",
     "text": [
      "[6121, 154, 14, 1, 1]\n"
     ]
    }
   ],
   "source": [
    "freq = [df.tour_num.value_counts()[i] for i in range(1, 6)]\n",
    "print(freq)"
   ]
  },
  {
   "cell_type": "code",
   "execution_count": 144,
   "id": "4e200e61-f84a-4252-b671-5b9890dcc632",
   "metadata": {},
   "outputs": [
    {
     "name": "stdout",
     "output_type": "stream",
     "text": [
      "[6291, 6291, 6291, 6291, 6291]\n"
     ]
    }
   ],
   "source": [
    "# len으로 하면 안 나옴\n",
    "# freq = [len(df['tour_num'] == i) for i in range(1, 6)]\n",
    "# print(freq)"
   ]
  },
  {
   "cell_type": "code",
   "execution_count": 201,
   "id": "b7ab1573-d94f-4f50-9b35-575a745d81c7",
   "metadata": {
    "tags": []
   },
   "outputs": [
    {
     "data": {
      "image/png": "[encoded data removed]",
      "text/plain": [
       "<Figure size 576x576 with 1 Axes>"
      ]
     },
     "metadata": {},
     "output_type": "display_data"
    }
   ],
   "source": [
    "# 여행 횟수 pie chart\n",
    "labels = [1, 2, 3, 4, 5]\n",
    "freq = [df.tour_num.value_counts()[i] for i in range(1, 6)]\n",
    "\n",
    "colors = sns.color_palette('summer_r', len(labels))\n",
    "\n",
    "fig = plt.figure(figsize=(8,8)) ## 캔버스 생성\n",
    "fig.set_facecolor('white') ## 캔버스 배경색을 하얀색으로 설정\n",
    "\n",
    "pie = plt.pie(freq, startangle=-45, counterclock=False,\n",
    "              autopct='%.1f%%', # 퍼센트 출력\n",
    "              colors=colors,\n",
    "              explode=[0, 0.2, 0.1, 0.1, 0.1],\n",
    "              wedgeprops={'width': 0.7, 'edgecolor': 'w', 'linewidth': 5},\n",
    "              # textprops=\n",
    "             )\n",
    "\n",
    "plt.title('2020 여행 횟수')\n",
    "plt.legend(pie[0],labels) ## 범례 표시\n",
    "plt.show()"
   ]
  },
  {
   "cell_type": "code",
   "execution_count": null,
   "id": "3e80d740-25eb-467c-b659-001260e4feeb",
   "metadata": {
    "jupyter": {
     "source_hidden": true
    },
    "tags": []
   },
   "outputs": [],
   "source": [
    "'''\n",
    "Accent', 'Accent_r', 'Blues', 'Blues_r', 'BrBG', 'BrBG_r', 'BuGn', 'BuGn_r', 'BuPu', 'BuPu_r', \n",
    "'CMRmap', 'CMRmap_r', 'Dark2', 'Dark2_r', 'GnBu', 'GnBu_r', 'Greens', 'Greens_r', 'Greys', 'Greys_r', \n",
    "'OrRd', 'OrRd_r', 'Oranges', 'Oranges_r', 'PRGn', 'PRGn_r', 'Paired', 'Paired_r', \n",
    "'Pastel1', 'Pastel1_r', 'Pastel2', 'Pastel2_r', 'PiYG', 'PiYG_r', \n",
    "'PuBu', 'PuBuGn', 'PuBuGn_r', 'PuBu_r', 'PuOr', 'PuOr_r', 'PuRd', 'PuRd_r', 'Purples', 'Purples_r', \n",
    "'RdBu', 'RdBu_r', 'RdGy', 'RdGy_r', 'RdPu', 'RdPu_r', 'RdYlBu', 'RdYlBu_r', 'RdYlGn', 'RdYlGn_r', \n",
    "'Reds', 'Reds_r', 'Set1', 'Set1_r', 'Set2', 'Set2_r', 'Set3', 'Set3_r', 'Spectral', 'Spectral_r', \n",
    "'Wistia', 'Wistia_r', 'YlGn', 'YlGnBu', 'YlGnBu_r', 'YlGn_r', 'YlOrBr', 'YlOrBr_r', 'YlOrRd', 'YlOrRd_r', \n",
    "'afmhot', 'afmhot_r', 'autumn', 'autumn_r', 'binary', 'binary_r', 'bone', 'bone_r', 'brg', 'brg_r', \n",
    "'bwr', 'bwr_r', 'cividis', 'cividis_r', 'cool', 'cool_r', 'coolwarm', 'coolwarm_r', 'copper', 'copper_r', \n",
    "'crest', 'crest_r', 'cubehelix', 'cubehelix_r', 'flag', 'flag_r', 'flare', 'flare_r', \n",
    "'gist_earth', 'gist_earth_r', 'gist_gray', 'gist_gray_r', 'gist_heat', 'gist_heat_r', 'gist_ncar', 'gist_ncar_r', \n",
    "'gist_rainbow', 'gist_rainbow_r', 'gist_stern', 'gist_stern_r', 'gist_yarg', 'gist_yarg_r', \n",
    "'gnuplot', 'gnuplot2', 'gnuplot2_r', 'gnuplot_r', 'gray', 'gray_r', 'hot', 'hot_r', 'hsv', 'hsv_r', \n",
    "'icefire', 'icefire_r', 'inferno', 'inferno_r', 'jet', 'jet_r', 'magma', 'magma_r', 'mako', 'mako_r', \n",
    "'nipy_spectral', 'nipy_spectral_r', 'ocean', 'ocean_r', 'pink', 'pink_r', 'plasma', 'plasma_r', \n",
    "'prism', 'prism_r', 'rainbow', 'rainbow_r', 'rocket', 'rocket_r', 'seismic', 'seismic_r', 'spring', 'spring_r', \n",
    "'summer', 'summer_r', 'tab10', 'tab10_r', 'tab20', 'tab20_r', 'tab20b', 'tab20b_r', 'tab20c', 'tab20c_r', \n",
    "'terrain', 'terrain_r', 'turbo', 'turbo_r', 'twilight', 'twilight_r', 'twilight_shifted', 'twilight_shifted_r', \n",
    "'viridis', 'viridis_r', 'vlag', 'vlag_r', 'winter', 'winter_r'\n",
    "'''"
   ]
  },
  {
   "cell_type": "code",
   "execution_count": null,
   "id": "f5473508-8afb-49d7-8560-a31f74c99fc0",
   "metadata": {},
   "outputs": [],
   "source": []
  },
  {
   "cell_type": "markdown",
   "id": "0a031515-a909-4041-8d37-dfd58fed5540",
   "metadata": {},
   "source": [
    "### **여행 월별 및 기간**"
   ]
  },
  {
   "cell_type": "code",
   "execution_count": 234,
   "id": "bbd7333f-1901-45f9-8b1e-66b4efdee6e3",
   "metadata": {},
   "outputs": [
    {
     "data": {
      "text/plain": [
       "Text(0.5, 1.0, '2020 여행 시기(월)')"
      ]
     },
     "execution_count": 234,
     "metadata": {},
     "output_type": "execute_result"
    },
    {
     "data": {
      "image/png": "[encoded data removed]",
      "text/plain": [
       "<Figure size 360x360 with 1 Axes>"
      ]
     },
     "metadata": {
      "needs_background": "light"
     },
     "output_type": "display_data"
    }
   ],
   "source": [
    "# 월별 여행 빈도\n",
    "sns.displot(df['D_TRA1_SMONTH'])\n",
    "plt.title('2020 여행 시기(월)')"
   ]
  },
  {
   "cell_type": "code",
   "execution_count": 96,
   "id": "7475f045-21a2-488c-8369-d4222c056098",
   "metadata": {
    "collapsed": true,
    "jupyter": {
     "outputs_hidden": true
    },
    "tags": []
   },
   "outputs": [
    {
     "ename": "KeyError",
     "evalue": "'D_TRA1_SDAY'",
     "output_type": "error",
     "traceback": [
      "\u001b[1;31m---------------------------------------------------------------------------\u001b[0m",
      "\u001b[1;31mKeyError\u001b[0m                                  Traceback (most recent call last)",
      "\u001b[1;32m~\\anaconda3\\envs\\multi\\lib\\site-packages\\pandas\\core\\indexes\\base.py\u001b[0m in \u001b[0;36mget_loc\u001b[1;34m(self, key, method, tolerance)\u001b[0m\n\u001b[0;32m   3079\u001b[0m             \u001b[1;32mtry\u001b[0m\u001b[1;33m:\u001b[0m\u001b[1;33m\u001b[0m\u001b[1;33m\u001b[0m\u001b[0m\n\u001b[1;32m-> 3080\u001b[1;33m                 \u001b[1;32mreturn\u001b[0m \u001b[0mself\u001b[0m\u001b[1;33m.\u001b[0m\u001b[0m_engine\u001b[0m\u001b[1;33m.\u001b[0m\u001b[0mget_loc\u001b[0m\u001b[1;33m(\u001b[0m\u001b[0mcasted_key\u001b[0m\u001b[1;33m)\u001b[0m\u001b[1;33m\u001b[0m\u001b[1;33m\u001b[0m\u001b[0m\n\u001b[0m\u001b[0;32m   3081\u001b[0m             \u001b[1;32mexcept\u001b[0m \u001b[0mKeyError\u001b[0m \u001b[1;32mas\u001b[0m \u001b[0merr\u001b[0m\u001b[1;33m:\u001b[0m\u001b[1;33m\u001b[0m\u001b[1;33m\u001b[0m\u001b[0m\n",
      "\u001b[1;32mpandas\\_libs\\index.pyx\u001b[0m in \u001b[0;36mpandas._libs.index.IndexEngine.get_loc\u001b[1;34m()\u001b[0m\n",
      "\u001b[1;32mpandas\\_libs\\index.pyx\u001b[0m in \u001b[0;36mpandas._libs.index.IndexEngine.get_loc\u001b[1;34m()\u001b[0m\n",
      "\u001b[1;32mpandas\\_libs\\hashtable_class_helper.pxi\u001b[0m in \u001b[0;36mpandas._libs.hashtable.PyObjectHashTable.get_item\u001b[1;34m()\u001b[0m\n",
      "\u001b[1;32mpandas\\_libs\\hashtable_class_helper.pxi\u001b[0m in \u001b[0;36mpandas._libs.hashtable.PyObjectHashTable.get_item\u001b[1;34m()\u001b[0m\n",
      "\u001b[1;31mKeyError\u001b[0m: 'D_TRA1_SDAY'",
      "\nThe above exception was the direct cause of the following exception:\n",
      "\u001b[1;31mKeyError\u001b[0m                                  Traceback (most recent call last)",
      "\u001b[1;32m<ipython-input-96-667c195fbdb1>\u001b[0m in \u001b[0;36m<module>\u001b[1;34m\u001b[0m\n\u001b[1;32m----> 1\u001b[1;33m \u001b[0mdf\u001b[0m\u001b[1;33m[\u001b[0m\u001b[1;34m'TRA1_Date'\u001b[0m\u001b[1;33m]\u001b[0m \u001b[1;33m=\u001b[0m \u001b[0mpd\u001b[0m\u001b[1;33m.\u001b[0m\u001b[0mto_datetime\u001b[0m\u001b[1;33m(\u001b[0m\u001b[0mdf\u001b[0m\u001b[1;33m[\u001b[0m\u001b[1;34m'D_TRA1_SMONTH'\u001b[0m\u001b[1;33m]\u001b[0m\u001b[1;33m.\u001b[0m\u001b[0mastype\u001b[0m\u001b[1;33m(\u001b[0m\u001b[0mstr\u001b[0m\u001b[1;33m)\u001b[0m \u001b[1;33m+\u001b[0m \u001b[0mdf\u001b[0m\u001b[1;33m[\u001b[0m\u001b[1;34m'D_TRA1_SDAY'\u001b[0m\u001b[1;33m]\u001b[0m\u001b[1;33m.\u001b[0m\u001b[0mastype\u001b[0m\u001b[1;33m(\u001b[0m\u001b[0mstr\u001b[0m\u001b[1;33m)\u001b[0m\u001b[1;33m,\u001b[0m \u001b[0mformat\u001b[0m\u001b[1;33m=\u001b[0m\u001b[1;34m'%d%m%Y'\u001b[0m\u001b[1;33m)\u001b[0m\u001b[1;33m.\u001b[0m\u001b[0mdt\u001b[0m\u001b[1;33m.\u001b[0m\u001b[0mstrftime\u001b[0m\u001b[1;33m(\u001b[0m\u001b[1;34m'%d/%m/%Y'\u001b[0m\u001b[1;33m)\u001b[0m\u001b[1;33m\u001b[0m\u001b[1;33m\u001b[0m\u001b[0m\n\u001b[0m",
      "\u001b[1;32m~\\anaconda3\\envs\\multi\\lib\\site-packages\\pandas\\core\\frame.py\u001b[0m in \u001b[0;36m__getitem__\u001b[1;34m(self, key)\u001b[0m\n\u001b[0;32m   3022\u001b[0m             \u001b[1;32mif\u001b[0m \u001b[0mself\u001b[0m\u001b[1;33m.\u001b[0m\u001b[0mcolumns\u001b[0m\u001b[1;33m.\u001b[0m\u001b[0mnlevels\u001b[0m \u001b[1;33m>\u001b[0m \u001b[1;36m1\u001b[0m\u001b[1;33m:\u001b[0m\u001b[1;33m\u001b[0m\u001b[1;33m\u001b[0m\u001b[0m\n\u001b[0;32m   3023\u001b[0m                 \u001b[1;32mreturn\u001b[0m \u001b[0mself\u001b[0m\u001b[1;33m.\u001b[0m\u001b[0m_getitem_multilevel\u001b[0m\u001b[1;33m(\u001b[0m\u001b[0mkey\u001b[0m\u001b[1;33m)\u001b[0m\u001b[1;33m\u001b[0m\u001b[1;33m\u001b[0m\u001b[0m\n\u001b[1;32m-> 3024\u001b[1;33m             \u001b[0mindexer\u001b[0m \u001b[1;33m=\u001b[0m \u001b[0mself\u001b[0m\u001b[1;33m.\u001b[0m\u001b[0mcolumns\u001b[0m\u001b[1;33m.\u001b[0m\u001b[0mget_loc\u001b[0m\u001b[1;33m(\u001b[0m\u001b[0mkey\u001b[0m\u001b[1;33m)\u001b[0m\u001b[1;33m\u001b[0m\u001b[1;33m\u001b[0m\u001b[0m\n\u001b[0m\u001b[0;32m   3025\u001b[0m             \u001b[1;32mif\u001b[0m \u001b[0mis_integer\u001b[0m\u001b[1;33m(\u001b[0m\u001b[0mindexer\u001b[0m\u001b[1;33m)\u001b[0m\u001b[1;33m:\u001b[0m\u001b[1;33m\u001b[0m\u001b[1;33m\u001b[0m\u001b[0m\n\u001b[0;32m   3026\u001b[0m                 \u001b[0mindexer\u001b[0m \u001b[1;33m=\u001b[0m \u001b[1;33m[\u001b[0m\u001b[0mindexer\u001b[0m\u001b[1;33m]\u001b[0m\u001b[1;33m\u001b[0m\u001b[1;33m\u001b[0m\u001b[0m\n",
      "\u001b[1;32m~\\anaconda3\\envs\\multi\\lib\\site-packages\\pandas\\core\\indexes\\base.py\u001b[0m in \u001b[0;36mget_loc\u001b[1;34m(self, key, method, tolerance)\u001b[0m\n\u001b[0;32m   3080\u001b[0m                 \u001b[1;32mreturn\u001b[0m \u001b[0mself\u001b[0m\u001b[1;33m.\u001b[0m\u001b[0m_engine\u001b[0m\u001b[1;33m.\u001b[0m\u001b[0mget_loc\u001b[0m\u001b[1;33m(\u001b[0m\u001b[0mcasted_key\u001b[0m\u001b[1;33m)\u001b[0m\u001b[1;33m\u001b[0m\u001b[1;33m\u001b[0m\u001b[0m\n\u001b[0;32m   3081\u001b[0m             \u001b[1;32mexcept\u001b[0m \u001b[0mKeyError\u001b[0m \u001b[1;32mas\u001b[0m \u001b[0merr\u001b[0m\u001b[1;33m:\u001b[0m\u001b[1;33m\u001b[0m\u001b[1;33m\u001b[0m\u001b[0m\n\u001b[1;32m-> 3082\u001b[1;33m                 \u001b[1;32mraise\u001b[0m \u001b[0mKeyError\u001b[0m\u001b[1;33m(\u001b[0m\u001b[0mkey\u001b[0m\u001b[1;33m)\u001b[0m \u001b[1;32mfrom\u001b[0m \u001b[0merr\u001b[0m\u001b[1;33m\u001b[0m\u001b[1;33m\u001b[0m\u001b[0m\n\u001b[0m\u001b[0;32m   3083\u001b[0m \u001b[1;33m\u001b[0m\u001b[0m\n\u001b[0;32m   3084\u001b[0m         \u001b[1;32mif\u001b[0m \u001b[0mtolerance\u001b[0m \u001b[1;32mis\u001b[0m \u001b[1;32mnot\u001b[0m \u001b[1;32mNone\u001b[0m\u001b[1;33m:\u001b[0m\u001b[1;33m\u001b[0m\u001b[1;33m\u001b[0m\u001b[0m\n",
      "\u001b[1;31mKeyError\u001b[0m: 'D_TRA1_SDAY'"
     ]
    }
   ],
   "source": [
    "# # 날짜 데이터 변환\n",
    "# df['TRA1_Date'] = pd.to_datetime(df['D_TRA1_SMONTH'].astype(str) + df['D_TRA1_SDAY'].astype(str) + df['D_TRA1_SYEAR'].astype(str), format='%d%m%Y').dt.strftime('%d/%m/%Y')"
   ]
  },
  {
   "cell_type": "code",
   "execution_count": 115,
   "id": "19c05417-ca21-421c-b15e-ac8ebb8ef08e",
   "metadata": {},
   "outputs": [
    {
     "data": {
      "text/plain": [
       "array([ 1,  2,  0,  3,  6,  5,  4,  9, 14, 13], dtype=int64)"
      ]
     },
     "execution_count": 115,
     "metadata": {},
     "output_type": "execute_result"
    }
   ],
   "source": [
    "df['D_TRA1_S_Day'].unique()"
   ]
  },
  {
   "cell_type": "code",
   "execution_count": 119,
   "id": "6291da29-52e3-4c23-a19c-f90852c13c42",
   "metadata": {},
   "outputs": [
    {
     "data": {
      "text/plain": [
       "0     3653\n",
       "1     1992\n",
       "2      521\n",
       "3       90\n",
       "4       18\n",
       "6        9\n",
       "5        5\n",
       "9        1\n",
       "13       1\n",
       "14       1\n",
       "Name: D_TRA1_S_Day, dtype: int64"
      ]
     },
     "execution_count": 119,
     "metadata": {},
     "output_type": "execute_result"
    }
   ],
   "source": [
    "df['D_TRA1_S_Day'].value_counts()"
   ]
  },
  {
   "cell_type": "code",
   "execution_count": 111,
   "id": "072fad18-cb26-4ac9-8b63-35f4127a8b2f",
   "metadata": {},
   "outputs": [
    {
     "data": {
      "text/plain": [
       "0     0.5807\n",
       "1     0.3166\n",
       "2     0.0828\n",
       "3     0.0143\n",
       "4     0.0029\n",
       "6     0.0014\n",
       "5     0.0008\n",
       "9     0.0002\n",
       "13    0.0002\n",
       "14    0.0002\n",
       "Name: D_TRA1_S_Day, dtype: object"
      ]
     },
     "execution_count": 111,
     "metadata": {},
     "output_type": "execute_result"
    }
   ],
   "source": [
    "df['D_TRA1_S_Day'].value_counts(1).apply(\"{0:.4f}\".format)"
   ]
  },
  {
   "cell_type": "code",
   "execution_count": 229,
   "id": "c6275381-a8c9-45ab-8efb-a0cb43b5c1ff",
   "metadata": {},
   "outputs": [
    {
     "data": {
      "text/plain": [
       "Text(0.5, 1.0, '2020 여행 기간')"
      ]
     },
     "execution_count": 229,
     "metadata": {},
     "output_type": "execute_result"
    },
    {
     "data": {
      "image/png": "[encoded data removed]",
      "text/plain": [
       "<Figure size 360x360 with 1 Axes>"
      ]
     },
     "metadata": {
      "needs_background": "light"
     },
     "output_type": "display_data"
    }
   ],
   "source": [
    "sns.displot(df['D_TRA1_S_Day'])\n",
    "plt.title('2020 여행 기간')"
   ]
  },
  {
   "cell_type": "code",
   "execution_count": 101,
   "id": "45371c08-2df1-4740-bf55-c46c164e2b56",
   "metadata": {},
   "outputs": [
    {
     "data": {
      "text/plain": [
       "<AxesSubplot:xlabel='D_TRA1_S_Day'>"
      ]
     },
     "execution_count": 101,
     "metadata": {},
     "output_type": "execute_result"
    },
    {
     "data": {
      "image/png": "[encoded data removed]",
      "text/plain": [
       "<Figure size 432x288 with 1 Axes>"
      ]
     },
     "metadata": {
      "needs_background": "light"
     },
     "output_type": "display_data"
    }
   ],
   "source": [
    "sns.boxplot(x=df['D_TRA1_S_Day'])"
   ]
  },
  {
   "cell_type": "markdown",
   "id": "ac066456-23ca-4d75-9923-ed7790b536e3",
   "metadata": {
    "jupyter": {
     "outputs_hidden": true
    },
    "tags": []
   },
   "source": [
    "### **여행 경비**"
   ]
  },
  {
   "cell_type": "code",
   "execution_count": 34,
   "id": "6a9cc2d3-6aba-4675-9610-9da3208487a4",
   "metadata": {
    "collapsed": true,
    "jupyter": {
     "outputs_hidden": true
    },
    "tags": []
   },
   "outputs": [
    {
     "data": {
      "text/plain": [
       "count        6,291\n",
       "mean       258,066\n",
       "std        298,653\n",
       "min         10,000\n",
       "25%        100,000\n",
       "50%        160,000\n",
       "75%        300,000\n",
       "max      5,000,000\n",
       "Name: D_TRA1_COST, dtype: object"
      ]
     },
     "execution_count": 34,
     "metadata": {},
     "output_type": "execute_result"
    }
   ],
   "source": [
    "# 여행 총 경비 continuous\n",
    "df['D_TRA1_COST'].describe().apply(\"{0:,.0f}\".format)"
   ]
  },
  {
   "cell_type": "code",
   "execution_count": 186,
   "id": "dc3a0f04-54b3-4474-a6df-b0bfe170d503",
   "metadata": {
    "tags": []
   },
   "outputs": [
    {
     "data": {
      "text/plain": [
       "100000    809\n",
       "200000    721\n",
       "150000    651\n",
       "300000    513\n",
       "50000     356\n",
       "         ... \n",
       "86000       1\n",
       "295000      1\n",
       "430000      1\n",
       "225000      1\n",
       "680000      1\n",
       "Name: D_TRA1_COST, Length: 186, dtype: int64"
      ]
     },
     "execution_count": 186,
     "metadata": {},
     "output_type": "execute_result"
    }
   ],
   "source": [
    "df['D_TRA1_COST'].value_counts()"
   ]
  },
  {
   "cell_type": "code",
   "execution_count": 230,
   "id": "7db239a2-8c0c-42b6-8874-71b7341d836d",
   "metadata": {
    "tags": []
   },
   "outputs": [
    {
     "data": {
      "text/plain": [
       "Text(0.5, 1.0, '2020 여행 총 경비')"
      ]
     },
     "execution_count": 230,
     "metadata": {},
     "output_type": "execute_result"
    },
    {
     "data": {
      "image/png": "[encoded data removed]",
      "text/plain": [
       "<Figure size 360x360 with 1 Axes>"
      ]
     },
     "metadata": {
      "needs_background": "light"
     },
     "output_type": "display_data"
    }
   ],
   "source": [
    "sns.displot(df['D_TRA1_COST'])\n",
    "plt.title('2020 여행 총 경비')"
   ]
  },
  {
   "cell_type": "code",
   "execution_count": 231,
   "id": "b6bedc42-3dbd-419f-8de3-724831001887",
   "metadata": {
    "tags": []
   },
   "outputs": [
    {
     "name": "stderr",
     "output_type": "stream",
     "text": [
      "C:\\Users\\Boram Yun\\anaconda3\\envs\\multi\\lib\\site-packages\\seaborn\\distributions.py:2557: FutureWarning: `distplot` is a deprecated function and will be removed in a future version. Please adapt your code to use either `displot` (a figure-level function with similar flexibility) or `histplot` (an axes-level function for histograms).\n",
      "  warnings.warn(msg, FutureWarning)\n"
     ]
    },
    {
     "data": {
      "text/plain": [
       "Text(0.5, 1.0, '2020 여행 총 경비')"
      ]
     },
     "execution_count": 231,
     "metadata": {},
     "output_type": "execute_result"
    },
    {
     "data": {
      "image/png": "[encoded data removed]",
      "text/plain": [
       "<Figure size 432x288 with 1 Axes>"
      ]
     },
     "metadata": {
      "needs_background": "light"
     },
     "output_type": "display_data"
    }
   ],
   "source": [
    "sns.distplot(df['D_TRA1_COST'])\n",
    "plt.title('2020 여행 총 경비')"
   ]
  },
  {
   "cell_type": "code",
   "execution_count": 232,
   "id": "fb2fe3d8-ab59-4693-9225-e0bd0ab5c024",
   "metadata": {
    "tags": []
   },
   "outputs": [
    {
     "data": {
      "image/png": "[encoded data removed]",
      "text/plain": [
       "<Figure size 432x288 with 1 Axes>"
      ]
     },
     "metadata": {
      "needs_background": "light"
     },
     "output_type": "display_data"
    }
   ],
   "source": [
    "sns.boxplot(x='D_TRA1_COST', data = df)\n",
    "plt.title('2020 여행 총 경비 Boxplot')\n",
    "plt.show()"
   ]
  },
  {
   "cell_type": "code",
   "execution_count": 48,
   "id": "95c4e3ae-efc3-4775-a795-854408d13c86",
   "metadata": {
    "tags": []
   },
   "outputs": [
    {
     "data": {
      "text/plain": [
       "array([200000, 500000, 700000, ..., 250000, 150000, 130000], dtype=int64)"
      ]
     },
     "execution_count": 48,
     "metadata": {},
     "output_type": "execute_result"
    }
   ],
   "source": [
    "# 여행 총 경비 category\n",
    "# total_cost = np.array(df['D_TRA1_COST'])\n",
    "total_cost = np.asarray(df['D_TRA1_COST'])\n",
    "total_cost"
   ]
  },
  {
   "cell_type": "code",
   "execution_count": 50,
   "id": "0963d671-f2c6-4f9d-8d58-f8e6a5bd794b",
   "metadata": {
    "tags": []
   },
   "outputs": [
    {
     "data": {
      "text/plain": [
       "array([[200000],\n",
       "       [500000],\n",
       "       [700000],\n",
       "       ...,\n",
       "       [250000],\n",
       "       [150000],\n",
       "       [130000]], dtype=int64)"
      ]
     },
     "execution_count": 50,
     "metadata": {},
     "output_type": "execute_result"
    }
   ],
   "source": [
    "total_cost = total_cost.reshape(-1, 1)\n",
    "total_cost"
   ]
  },
  {
   "cell_type": "code",
   "execution_count": 46,
   "id": "e4565e03-c7a7-43f3-933e-8a2f734a4913",
   "metadata": {
    "tags": []
   },
   "outputs": [
    {
     "data": {
      "text/plain": [
       "numpy.ndarray"
      ]
     },
     "execution_count": 46,
     "metadata": {},
     "output_type": "execute_result"
    }
   ],
   "source": [
    "type(total_cost)"
   ]
  },
  {
   "cell_type": "code",
   "execution_count": 51,
   "id": "cee43325-678c-437d-9ba7-ab85480c08bc",
   "metadata": {
    "tags": []
   },
   "outputs": [],
   "source": [
    "# strategy = 'quantile' 동일한 개수\n",
    "kb = KBinsDiscretizer(n_bins=10, encode='ordinal', strategy='quantile').fit(total_cost)"
   ]
  },
  {
   "cell_type": "code",
   "execution_count": 52,
   "id": "26fd70b2-8cd2-44ad-afc5-bd1cb7103081",
   "metadata": {
    "tags": []
   },
   "outputs": [],
   "source": [
    "cost_cat = kb.transform(total_cost)"
   ]
  },
  {
   "cell_type": "code",
   "execution_count": 55,
   "id": "dec2541d-6cd4-4b56-8e5f-3456739575a0",
   "metadata": {
    "collapsed": true,
    "jupyter": {
     "outputs_hidden": true
    },
    "tags": []
   },
   "outputs": [
    {
     "data": {
      "text/plain": [
       "array([[6.],\n",
       "       [9.],\n",
       "       [9.],\n",
       "       [2.],\n",
       "       [1.]])"
      ]
     },
     "execution_count": 55,
     "metadata": {},
     "output_type": "execute_result"
    }
   ],
   "source": [
    "cost_cat[:5, :]"
   ]
  },
  {
   "cell_type": "code",
   "execution_count": 57,
   "id": "8c8db995-ee51-4f4a-bbef-a11b529635c0",
   "metadata": {},
   "outputs": [
    {
     "name": "stdout",
     "output_type": "stream",
     "text": [
      "[  10000.   50000.   80000.  100000.  150000.  160000.  200000.  300000.\n",
      "  395000.  500000. 5000000.]\n"
     ]
    }
   ],
   "source": [
    "print(kb.bin_edges_[0])"
   ]
  },
  {
   "cell_type": "code",
   "execution_count": 60,
   "id": "f56b9870-ce02-4a0d-8a05-445c0a5438c6",
   "metadata": {},
   "outputs": [
    {
     "data": {
      "image/png": "[encoded data removed]",
      "text/plain": [
       "<Figure size 401.75x360 with 1 Axes>"
      ]
     },
     "metadata": {
      "needs_background": "light"
     },
     "output_type": "display_data"
    }
   ],
   "source": [
    "cost_plot = sns.displot(cost_cat)"
   ]
  },
  {
   "cell_type": "code",
   "execution_count": 121,
   "id": "10c55052-29fb-4c6a-80b5-5aa6a762dc9b",
   "metadata": {},
   "outputs": [
    {
     "data": {
      "text/plain": [
       "array([[6.],\n",
       "       [9.],\n",
       "       [9.],\n",
       "       ...,\n",
       "       [6.],\n",
       "       [4.],\n",
       "       [3.]])"
      ]
     },
     "execution_count": 121,
     "metadata": {},
     "output_type": "execute_result"
    }
   ],
   "source": [
    "cost_cat"
   ]
  },
  {
   "cell_type": "code",
   "execution_count": 70,
   "id": "158ee763-2d36-4273-baa3-eeaa5dc531b0",
   "metadata": {
    "collapsed": true,
    "jupyter": {
     "outputs_hidden": true
    },
    "tags": []
   },
   "outputs": [
    {
     "data": {
      "image/png": "[encoded data removed]",
      "text/plain": [
       "<Figure size 401.75x360 with 1 Axes>"
      ]
     },
     "metadata": {
      "needs_background": "light"
     },
     "output_type": "display_data"
    }
   ],
   "source": [
    "# strategy = 'uniform' 동일한 간격\n",
    "kb2 = KBinsDiscretizer(n_bins=10, encode='ordinal', strategy='uniform').fit(total_cost)\n",
    "cost_cat2 = kb2.transform(total_cost)\n",
    "cost_plot2 = sns.displot(cost_cat2)"
   ]
  },
  {
   "cell_type": "code",
   "execution_count": 72,
   "id": "6b1aa831-4df0-48ca-a01c-5986ba15bea1",
   "metadata": {},
   "outputs": [
    {
     "name": "stdout",
     "output_type": "stream",
     "text": [
      "[  10000.  509000. 1008000. 1507000. 2006000. 2505000. 3004000. 3503000.\n",
      " 4002000. 4501000. 5000000.]\n"
     ]
    }
   ],
   "source": [
    "print(kb2.bin_edges_[0])"
   ]
  },
  {
   "cell_type": "code",
   "execution_count": 73,
   "id": "e4f0e6ca-ba78-44c5-9c30-c31e40fb477d",
   "metadata": {},
   "outputs": [
    {
     "data": {
      "text/plain": [
       "array([array([  10000.,  509000., 1008000., 1507000., 2006000., 2505000.,\n",
       "       3004000., 3503000., 4002000., 4501000., 5000000.])], dtype=object)"
      ]
     },
     "execution_count": 73,
     "metadata": {},
     "output_type": "execute_result"
    }
   ],
   "source": [
    "kb2.bin_edges_"
   ]
  },
  {
   "cell_type": "code",
   "execution_count": 82,
   "id": "6df4813f-106d-422d-8be7-31fae872c028",
   "metadata": {},
   "outputs": [
    {
     "data": {
      "text/plain": [
       "11"
      ]
     },
     "execution_count": 82,
     "metadata": {},
     "output_type": "execute_result"
    }
   ],
   "source": [
    "len([_ for _ in kb2.bin_edges_[0]])"
   ]
  },
  {
   "cell_type": "code",
   "execution_count": 88,
   "id": "a2c2b6f7-0099-4335-878c-c8a8bbe5e480",
   "metadata": {},
   "outputs": [
    {
     "name": "stdout",
     "output_type": "stream",
     "text": [
      "[  10000. 1008000. 2006000. 3004000. 4002000. 5000000.]\n"
     ]
    }
   ],
   "source": [
    "print(kb2.bin_edges_[0])"
   ]
  },
  {
   "cell_type": "code",
   "execution_count": null,
   "id": "ec7c2acc-687d-453f-8170-5ead6e1fb6e1",
   "metadata": {},
   "outputs": [],
   "source": [
    "# bins -> xtick 표기"
   ]
  },
  {
   "cell_type": "code",
   "execution_count": null,
   "id": "e5c26e59-e38b-4621-a633-f38132f93a74",
   "metadata": {},
   "outputs": [],
   "source": []
  },
  {
   "cell_type": "code",
   "execution_count": null,
   "id": "0460fa98-0ccd-42ca-9ccd-67fbbf0cce9d",
   "metadata": {},
   "outputs": [],
   "source": []
  },
  {
   "cell_type": "code",
   "execution_count": 196,
   "id": "c4a2b2e2-9a04-4f7a-9648-dbf882fdad5e",
   "metadata": {},
   "outputs": [
    {
     "data": {
      "text/plain": [
       "Text(0, 0.5, '여행 총 경비')"
      ]
     },
     "execution_count": 196,
     "metadata": {},
     "output_type": "execute_result"
    },
    {
     "data": {
      "image/png": "[encoded data removed]",
      "text/plain": [
       "<Figure size 432x288 with 1 Axes>"
      ]
     },
     "metadata": {
      "needs_background": "light"
     },
     "output_type": "display_data"
    }
   ],
   "source": [
    "# 여행 인원 수와 총 경비\n",
    "plt.scatter(df['D_TRA1_NUM'], df['D_TRA1_COST'], alpha=.3)\n",
    "plt.title('2020 여행 인원 수와 총 경비')\n",
    "plt.xlabel('여행 인원수')\n",
    "plt.ylabel('여행 총 경비')"
   ]
  },
  {
   "cell_type": "code",
   "execution_count": null,
   "id": "315c9ec6-8b06-4ae7-98ac-b63eeeeaeafc",
   "metadata": {},
   "outputs": [],
   "source": []
  },
  {
   "cell_type": "code",
   "execution_count": null,
   "id": "efd84338-5120-42dc-b28c-f3e7b2b8e94c",
   "metadata": {},
   "outputs": [],
   "source": []
  },
  {
   "cell_type": "code",
   "execution_count": null,
   "id": "0aad1883-88ba-4b23-af12-5cc2b7f2fa69",
   "metadata": {},
   "outputs": [],
   "source": [
    "# 여행 총 경비 / 여행 일수"
   ]
  },
  {
   "cell_type": "code",
   "execution_count": null,
   "id": "3cca0c00-3ffe-49dd-bbec-5f48287affbb",
   "metadata": {},
   "outputs": [],
   "source": []
  },
  {
   "cell_type": "code",
   "execution_count": null,
   "id": "41d0cc3b-3612-4e41-a40f-2015a9e1fde7",
   "metadata": {},
   "outputs": [],
   "source": []
  },
  {
   "cell_type": "markdown",
   "id": "a868695f-374a-458b-82b7-e421147677e9",
   "metadata": {},
   "source": [
    "### **여행 인원 수** \n",
    "D_TRA1_NUM"
   ]
  },
  {
   "cell_type": "code",
   "execution_count": 187,
   "id": "2d423fad-d82c-4e6e-983b-2d079b386855",
   "metadata": {},
   "outputs": [
    {
     "data": {
      "text/plain": [
       "2     1953\n",
       "1     1782\n",
       "3     1201\n",
       "4     1170\n",
       "5      111\n",
       "6       38\n",
       "7       17\n",
       "8       12\n",
       "10       5\n",
       "12       1\n",
       "11       1\n",
       "Name: D_TRA1_NUM, dtype: int64"
      ]
     },
     "execution_count": 187,
     "metadata": {},
     "output_type": "execute_result"
    }
   ],
   "source": [
    "df['D_TRA1_NUM'].value_counts()"
   ]
  },
  {
   "cell_type": "code",
   "execution_count": 193,
   "id": "49856f2c-0b7d-4c07-a09c-f379907e01b0",
   "metadata": {},
   "outputs": [
    {
     "data": {
      "text/plain": [
       "2     0.3104\n",
       "1     0.2833\n",
       "3     0.1909\n",
       "4     0.1860\n",
       "5     0.0176\n",
       "6     0.0060\n",
       "7     0.0027\n",
       "8     0.0019\n",
       "10    0.0008\n",
       "12    0.0002\n",
       "11    0.0002\n",
       "Name: D_TRA1_NUM, dtype: object"
      ]
     },
     "execution_count": 193,
     "metadata": {},
     "output_type": "execute_result"
    }
   ],
   "source": [
    "df['D_TRA1_NUM'].value_counts(1).apply(\"{0:,.4f}\".format)"
   ]
  },
  {
   "cell_type": "code",
   "execution_count": 190,
   "id": "167e9f8e-0371-495e-9389-fb500a46abe0",
   "metadata": {},
   "outputs": [
    {
     "data": {
      "text/plain": [
       "count    6,291\n",
       "mean         2\n",
       "std          1\n",
       "min          1\n",
       "25%          1\n",
       "50%          2\n",
       "75%          3\n",
       "max         12\n",
       "Name: D_TRA1_NUM, dtype: object"
      ]
     },
     "execution_count": 190,
     "metadata": {},
     "output_type": "execute_result"
    }
   ],
   "source": [
    "df['D_TRA1_NUM'].describe().apply(\"{0:,.0f}\".format)"
   ]
  },
  {
   "cell_type": "code",
   "execution_count": 198,
   "id": "fa732808-de6c-49f5-bb38-d5deccc69617",
   "metadata": {},
   "outputs": [
    {
     "data": {
      "text/plain": [
       "Text(0.5, 1.0, '2020 여행 인원수')"
      ]
     },
     "execution_count": 198,
     "metadata": {},
     "output_type": "execute_result"
    },
    {
     "data": {
      "image/png": "[encoded data removed]",
      "text/plain": [
       "<Figure size 360x360 with 1 Axes>"
      ]
     },
     "metadata": {
      "needs_background": "light"
     },
     "output_type": "display_data"
    }
   ],
   "source": [
    "sns.displot(df['D_TRA1_NUM'])\n",
    "plt.title('2020 여행 인원수')"
   ]
  },
  {
   "cell_type": "code",
   "execution_count": 235,
   "id": "776e0ed8-7f09-4824-99f8-3171331182b7",
   "metadata": {},
   "outputs": [
    {
     "data": {
      "text/plain": [
       "Text(0.5, 1.0, '2020 여행 인원수')"
      ]
     },
     "execution_count": 235,
     "metadata": {},
     "output_type": "execute_result"
    },
    {
     "data": {
      "image/png": "[encoded data removed]",
      "text/plain": [
       "<Figure size 432x288 with 1 Axes>"
      ]
     },
     "metadata": {
      "needs_background": "light"
     },
     "output_type": "display_data"
    }
   ],
   "source": [
    "sns.boxplot(x=df['D_TRA1_NUM'])\n",
    "plt.title('2020 여행 인원수')"
   ]
  },
  {
   "cell_type": "code",
   "execution_count": 203,
   "id": "fe4f7bbd-8c82-4979-9c3c-a5dd5f411d9d",
   "metadata": {},
   "outputs": [
    {
     "name": "stdout",
     "output_type": "stream",
     "text": [
      "[1, 2, 3, 4, 5, 6, 7, 8, 9, 10, 11, 12]\n"
     ]
    }
   ],
   "source": [
    "# labels = [1, 2, 3, 4, 5, 6, 7, 8, 9, 10, 11, 12]\n",
    "labels = [i for i in range(1, 13)]\n",
    "print(labels)"
   ]
  },
  {
   "cell_type": "code",
   "execution_count": 217,
   "id": "b0015297-3f45-42ae-a67c-800346faeb0b",
   "metadata": {},
   "outputs": [
    {
     "name": "stdout",
     "output_type": "stream",
     "text": [
      "[1     1782\n",
      "4     1170\n",
      "2     1953\n",
      "3     1201\n",
      "5      111\n",
      "8       12\n",
      "6       38\n",
      "10       5\n",
      "7       17\n",
      "11       1\n",
      "12       1\n",
      "Name: D_TRA1_NUM, dtype: int64]\n"
     ]
    }
   ],
   "source": [
    "freq = [df['D_TRA1_NUM'].value_counts()[i] for i in [df['D_TRA1_NUM'].unique()]]\n",
    "print(freq)"
   ]
  },
  {
   "cell_type": "code",
   "execution_count": 222,
   "id": "33af3d0b-8743-420f-80a9-0040a83090ed",
   "metadata": {},
   "outputs": [
    {
     "data": {
      "text/plain": [
       "1782"
      ]
     },
     "execution_count": 222,
     "metadata": {},
     "output_type": "execute_result"
    }
   ],
   "source": [
    "df['D_TRA1_NUM'].value_counts()[1]"
   ]
  },
  {
   "cell_type": "code",
   "execution_count": 218,
   "id": "1246ea73-56d4-4e38-bf75-af8cd9194cc1",
   "metadata": {},
   "outputs": [
    {
     "data": {
      "text/plain": [
       "array([ 1,  4,  2,  3,  5,  8,  6, 10,  7, 11, 12], dtype=int64)"
      ]
     },
     "execution_count": 218,
     "metadata": {},
     "output_type": "execute_result"
    }
   ],
   "source": [
    "df['D_TRA1_NUM'].unique()"
   ]
  },
  {
   "cell_type": "code",
   "execution_count": 226,
   "id": "a5fd148d-7cf2-42fa-9697-4ece7a8f01b3",
   "metadata": {},
   "outputs": [
    {
     "data": {
      "text/plain": [
       "array([ 1,  2,  3,  4,  5,  6,  7,  8, 10, 11, 12], dtype=int64)"
      ]
     },
     "execution_count": 226,
     "metadata": {},
     "output_type": "execute_result"
    }
   ],
   "source": [
    "np.sort(df['D_TRA1_NUM'].unique())"
   ]
  },
  {
   "cell_type": "code",
   "execution_count": 219,
   "id": "860e6653-1f71-45da-987c-3b45401b1fbb",
   "metadata": {},
   "outputs": [
    {
     "name": "stdout",
     "output_type": "stream",
     "text": [
      "[1782, 1170, 1953, 1201, 111, 12, 38, 5, 17, 1, 1]\n"
     ]
    }
   ],
   "source": [
    "freq = [df['D_TRA1_NUM'].value_counts()[i] for i in [j for j in df['D_TRA1_NUM'].unique()]]\n",
    "print(freq)"
   ]
  },
  {
   "cell_type": "code",
   "execution_count": 228,
   "id": "18045c18-c6ff-442e-a67c-4b37f8bbf03d",
   "metadata": {},
   "outputs": [
    {
     "data": {
      "image/png": "[encoded data removed]",
      "text/plain": [
       "<Figure size 576x576 with 1 Axes>"
      ]
     },
     "metadata": {},
     "output_type": "display_data"
    }
   ],
   "source": [
    "# 여행 인원수 pie chart\n",
    "labels = [_ for _ in np.sort(df['D_TRA1_NUM'].unique())]\n",
    "freq = [df['D_TRA1_NUM'].value_counts()[i] for i in np.sort(df['D_TRA1_NUM'].unique())]\n",
    "\n",
    "colors = sns.color_palette('summer_r', len(labels))\n",
    "\n",
    "fig = plt.figure(figsize=(8,8)) ## 캔버스 생성\n",
    "fig.set_facecolor('white') ## 캔버스 배경색을 하얀색으로 설정\n",
    "\n",
    "pie = plt.pie(freq, startangle=-45, counterclock=False,\n",
    "              autopct='%.1f%%', # 퍼센트 출력\n",
    "              colors=colors,\n",
    "              # explode=[0, 0.2, 0.1, 0.1, 0.1],\n",
    "              wedgeprops={'width': 0.7, 'edgecolor': 'w', 'linewidth': 5}\n",
    "              # textprops=\n",
    "             )\n",
    "\n",
    "plt.title('2020 여행 인원수')\n",
    "plt.legend(pie[0],labels) ## 범례 표시\n",
    "plt.show()"
   ]
  },
  {
   "cell_type": "code",
   "execution_count": null,
   "id": "7b901738-76e7-448a-b6c0-a5748aa7ee44",
   "metadata": {},
   "outputs": [],
   "source": []
  },
  {
   "cell_type": "markdown",
   "id": "d3b2aa97-dbae-4e85-a8e4-2f0603cd0e0d",
   "metadata": {},
   "source": [
    "### **여행 기간**"
   ]
  },
  {
   "cell_type": "code",
   "execution_count": null,
   "id": "007603e7-38ce-401d-bc26-f067a82be456",
   "metadata": {},
   "outputs": [],
   "source": []
  },
  {
   "cell_type": "code",
   "execution_count": null,
   "id": "3db95e43-78cb-470c-90dd-4956f9a90be1",
   "metadata": {},
   "outputs": [],
   "source": []
  },
  {
   "cell_type": "code",
   "execution_count": null,
   "id": "61d3c97d-ddc1-40e4-89d6-05976fe06b19",
   "metadata": {},
   "outputs": [],
   "source": []
  },
  {
   "cell_type": "code",
   "execution_count": 69,
   "id": "57121ecc-5e28-4334-8937-313fb5ae7f4b",
   "metadata": {},
   "outputs": [
    {
     "ename": "AttributeError",
     "evalue": "'FacetGrid' object has no attribute 'set_xticks'",
     "output_type": "error",
     "traceback": [
      "\u001b[1;31m---------------------------------------------------------------------------\u001b[0m",
      "\u001b[1;31mAttributeError\u001b[0m                            Traceback (most recent call last)",
      "\u001b[1;32m<ipython-input-69-c06a6ed25955>\u001b[0m in \u001b[0;36m<module>\u001b[1;34m\u001b[0m\n\u001b[1;32m----> 1\u001b[1;33m \u001b[0mcost_plot\u001b[0m\u001b[1;33m.\u001b[0m\u001b[0mset_xticks\u001b[0m\u001b[1;33m(\u001b[0m\u001b[0mrange\u001b[0m\u001b[1;33m(\u001b[0m\u001b[0mlen\u001b[0m\u001b[1;33m(\u001b[0m\u001b[0mcost_cat\u001b[0m\u001b[1;33m)\u001b[0m\u001b[1;33m)\u001b[0m\u001b[1;33m)\u001b[0m\u001b[1;33m\u001b[0m\u001b[1;33m\u001b[0m\u001b[0m\n\u001b[0m",
      "\u001b[1;31mAttributeError\u001b[0m: 'FacetGrid' object has no attribute 'set_xticks'"
     ]
    }
   ],
   "source": [
    "cost_plot.set_xticks(range(len(cost_cat)))"
   ]
  },
  {
   "cell_type": "code",
   "execution_count": null,
   "id": "1f59771e-6a60-4039-9690-1a3b93b5ba44",
   "metadata": {},
   "outputs": [],
   "source": []
  },
  {
   "cell_type": "code",
   "execution_count": null,
   "id": "a52b8775-f800-4ce3-8b28-a8912d7adfaa",
   "metadata": {},
   "outputs": [],
   "source": []
  },
  {
   "cell_type": "code",
   "execution_count": null,
   "id": "6247c18e-4c69-4585-97da-f8da81929717",
   "metadata": {},
   "outputs": [],
   "source": []
  },
  {
   "cell_type": "code",
   "execution_count": null,
   "id": "373c4b38-ee7f-4fc7-8267-578b88f843e2",
   "metadata": {},
   "outputs": [],
   "source": [
    "sns.jointplot(x='', y='', data=df) # kind='reg'\n",
    "plt.show()"
   ]
  },
  {
   "cell_type": "code",
   "execution_count": null,
   "id": "088a72ac-5725-42aa-809e-a0fd13e60624",
   "metadata": {},
   "outputs": [],
   "source": [
    "df.corr()\n",
    "sns.heatmap(df.corr(), annot=True, cmap='YlGnBu')\n",
    "plot.show()"
   ]
  },
  {
   "cell_type": "code",
   "execution_count": null,
   "id": "1743b7c1-02e5-4e91-9418-f816a2c6f8e3",
   "metadata": {},
   "outputs": [],
   "source": [
    "sns.pairplot(df, hue='size')\n",
    "plt.show()"
   ]
  },
  {
   "cell_type": "code",
   "execution_count": null,
   "id": "8a0ab751-814c-4872-85a4-8bda8bb44a96",
   "metadata": {},
   "outputs": [],
   "source": [
    "# 선형관계\n",
    "sns.lmplot(x ='', y = '', hue='smoker', data=df)  # height=8 ?\n",
    "plot.show()"
   ]
  },
  {
   "cell_type": "code",
   "execution_count": null,
   "id": "7dd4a5c0-e51b-47ab-ad45-ad39a34a593e",
   "metadata": {},
   "outputs": [],
   "source": []
  }
 ],
 "metadata": {
  "kernelspec": {
   "display_name": "Python Multi",
   "language": "python",
   "name": "multi"
  },
  "language_info": {
   "codemirror_mode": {
    "name": "ipython",
    "version": 3
   },
   "file_extension": ".py",
   "mimetype": "text/x-python",
   "name": "python",
   "nbconvert_exporter": "python",
   "pygments_lexer": "ipython3",
   "version": "3.7.6"
  }
 },
 "nbformat": 4,
 "nbformat_minor": 5
}
