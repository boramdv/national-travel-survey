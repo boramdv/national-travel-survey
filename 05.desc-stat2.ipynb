{
 "cells": [
  {
   "cell_type": "code",
   "execution_count": 1,
   "id": "8ca695a5-7c92-487c-87bd-a323270ad1d2",
   "metadata": {},
   "outputs": [],
   "source": [
    "import numpy as np\n",
    "import pandas as pd\n",
    "\n",
    "import matplotlib.pyplot as plt\n",
    "import matplotlib.ticker as mticker\n",
    "\n",
    "import seaborn as sns"
   ]
  },
  {
   "cell_type": "code",
   "execution_count": 2,
   "id": "8b92f242-2abe-47f9-9561-5b2d545fa0e6",
   "metadata": {},
   "outputs": [],
   "source": [
    "# 한글 폰트\n",
    "import matplotlib\n",
    "import matplotlib.font_manager as fm\n",
    "font_path = \"C:/Windows/Fonts/NGULIM.TTF\"\n",
    "font = fm.FontProperties(fname=font_path).get_name()\n",
    "matplotlib.rc('font', family=font)\n",
    "\n",
    "# # 한글 폰트2\n",
    "# plt.rc('font', family='NanumBarunGothic') "
   ]
  },
  {
   "cell_type": "code",
   "execution_count": 3,
   "id": "ecf6e95a-bccd-4b1d-ae10-714aa4eec7a7",
   "metadata": {},
   "outputs": [],
   "source": [
    "df = pd.read_csv('2020_Domestic_Tour_FS.csv', encoding='utf-8')"
   ]
  },
  {
   "cell_type": "markdown",
   "id": "435a2058-8552-451d-ad62-a51356226e3e",
   "metadata": {},
   "source": [
    "### 기타 변수\n",
    "- 주요 이동 교통수단 (1순위)\n",
    "- 여행지 선택 이유 (1순위)\n",
    "- 여행 정보 획득 경로 (1순위)\n",
    "\n",
    "- 전반적 만족도 (Likert 1-5)\n",
    "- 재방문 의도\n",
    "- 타인 추천 의도\n",
    "\n",
    "- 월 평균 본인(개인)/가구 소득"
   ]
  },
  {
   "cell_type": "code",
   "execution_count": 4,
   "id": "fcdb7712-a295-4261-bf9e-c775056ae298",
   "metadata": {
    "collapsed": true,
    "jupyter": {
     "outputs_hidden": true
    },
    "tags": []
   },
   "outputs": [
    {
     "data": {
      "text/plain": [
       "1     5219\n",
       "6      427\n",
       "5      160\n",
       "3      160\n",
       "2      158\n",
       "8      109\n",
       "10      27\n",
       "7       16\n",
       "4        8\n",
       "9        6\n",
       "11       1\n",
       "Name: A1_1, dtype: int64"
      ]
     },
     "execution_count": 4,
     "metadata": {},
     "output_type": "execute_result"
    }
   ],
   "source": [
    "# 주요이동교통수단 1순위\n",
    "df.A1_1.value_counts()"
   ]
  },
  {
   "cell_type": "code",
   "execution_count": 6,
   "id": "34dc3c3d-2413-4dd8-a8aa-f2c934ed6a3d",
   "metadata": {
    "collapsed": true,
    "jupyter": {
     "outputs_hidden": true
    },
    "tags": []
   },
   "outputs": [
    {
     "data": {
      "text/plain": [
       "1     0.8296\n",
       "6     0.0679\n",
       "5     0.0254\n",
       "3     0.0254\n",
       "2     0.0251\n",
       "8     0.0173\n",
       "10    0.0043\n",
       "7     0.0025\n",
       "4     0.0013\n",
       "9     0.0010\n",
       "11    0.0002\n",
       "Name: A1_1, dtype: object"
      ]
     },
     "execution_count": 6,
     "metadata": {},
     "output_type": "execute_result"
    }
   ],
   "source": [
    "df.A1_1.value_counts(1).apply(\"{0:.4f}\".format)"
   ]
  },
  {
   "cell_type": "markdown",
   "id": "8f7aee89-b83c-4a76-862d-4fc235f6ab66",
   "metadata": {},
   "source": [
    "1. 자가용\n",
    "2. 철도\n",
    "3. 항공기\n",
    "4. 선박/해상교통\n",
    "5. 지하철\n",
    "6. [정기]고속/시외/시내버스\n",
    "7. [부정기]전세/관광버스\n",
    "8. 차량대여/렌트\n",
    "9. 자전거\n",
    "10. 택시\n",
    "11. 기타"
   ]
  },
  {
   "cell_type": "code",
   "execution_count": null,
   "id": "27825e1a-35fe-47eb-bfa8-e0f23600f0e0",
   "metadata": {},
   "outputs": [],
   "source": []
  },
  {
   "cell_type": "code",
   "execution_count": 7,
   "id": "a19f9fcf-e29e-456a-bd17-e38bc4ef2e9a",
   "metadata": {
    "collapsed": true,
    "jupyter": {
     "outputs_hidden": true
    },
    "tags": []
   },
   "outputs": [
    {
     "data": {
      "text/plain": [
       "2     1346\n",
       "1     1042\n",
       "4      760\n",
       "5      708\n",
       "14     578\n",
       "8      474\n",
       "3      334\n",
       "11     297\n",
       "6      191\n",
       "9      175\n",
       "12     116\n",
       "7       96\n",
       "15      68\n",
       "10      55\n",
       "13      51\n",
       "Name: A4_1, dtype: int64"
      ]
     },
     "execution_count": 7,
     "metadata": {},
     "output_type": "execute_result"
    }
   ],
   "source": [
    "# 여행지 선택 이유 1순위\n",
    "df['A4_1'].value_counts()"
   ]
  },
  {
   "cell_type": "code",
   "execution_count": 9,
   "id": "2cc31289-38e7-4a35-8706-77ea24e06d3a",
   "metadata": {
    "collapsed": true,
    "jupyter": {
     "outputs_hidden": true
    },
    "tags": []
   },
   "outputs": [
    {
     "data": {
      "text/plain": [
       "2     0.2140\n",
       "1     0.1656\n",
       "4     0.1208\n",
       "5     0.1125\n",
       "14    0.0919\n",
       "8     0.0753\n",
       "3     0.0531\n",
       "11    0.0472\n",
       "6     0.0304\n",
       "9     0.0278\n",
       "12    0.0184\n",
       "7     0.0153\n",
       "15    0.0108\n",
       "10    0.0087\n",
       "13    0.0081\n",
       "Name: A4_1, dtype: object"
      ]
     },
     "execution_count": 9,
     "metadata": {},
     "output_type": "execute_result"
    }
   ],
   "source": [
    "df['A4_1'].value_counts(1).apply(\"{0:.4f}\".format)"
   ]
  },
  {
   "cell_type": "markdown",
   "id": "79a8e882-0815-49fd-b193-83dbdfdd7247",
   "metadata": {},
   "source": [
    "1. 여행지 지명도\n",
    "2. 볼거리제공\n",
    "3. 저렴한여행경비\n",
    "4. 이동거리\n",
    "5. 여행할수있는시간\n",
    "6. 숙박시설\n",
    "7. 쇼핑\n",
    "8. 음식\n",
    "9. 교통편\n",
    "10. 체험프로그램유무\n",
    "11. 경험자의추천\n",
    "12. 관광지편의시설\n",
    "13. 교육성(교육적측면)\n",
    "14. 여행동반자유형\n",
    "15. 기타"
   ]
  },
  {
   "cell_type": "code",
   "execution_count": 10,
   "id": "1fa333eb-c738-4350-a40d-3d8496b85011",
   "metadata": {},
   "outputs": [
    {
     "data": {
      "text/plain": [
       "Text(0.5, 1.0, '2020 여행지 선택 이유 1순위')"
      ]
     },
     "execution_count": 10,
     "metadata": {},
     "output_type": "execute_result"
    },
    {
     "data": {
      "image/png": "[encoded data removed]",
      "text/plain": [
       "<Figure size 360x360 with 1 Axes>"
      ]
     },
     "metadata": {
      "needs_background": "light"
     },
     "output_type": "display_data"
    }
   ],
   "source": [
    "sns.displot(df['A4_1'])\n",
    "plt.title('2020 여행지 선택 이유 1순위')"
   ]
  },
  {
   "cell_type": "code",
   "execution_count": null,
   "id": "e6b65bf3-bcb1-4ef5-9889-b1f4ff67e0f8",
   "metadata": {},
   "outputs": [],
   "source": []
  },
  {
   "cell_type": "code",
   "execution_count": null,
   "id": "953aed77-cca5-4225-b89d-4c19b6fbc73b",
   "metadata": {},
   "outputs": [],
   "source": []
  },
  {
   "cell_type": "code",
   "execution_count": 11,
   "id": "bdd8f1d3-e433-455f-8374-41059ae839fa",
   "metadata": {
    "collapsed": true,
    "jupyter": {
     "outputs_hidden": true
    },
    "tags": []
   },
   "outputs": [
    {
     "data": {
      "text/plain": [
       "7    1979\n",
       "5    1683\n",
       "8    1157\n",
       "1    1156\n",
       "2     148\n",
       "3     115\n",
       "6      34\n",
       "4      14\n",
       "9       5\n",
       "Name: A6_1, dtype: int64"
      ]
     },
     "execution_count": 11,
     "metadata": {},
     "output_type": "execute_result"
    }
   ],
   "source": [
    "# 여행 정보 획득 경로 1순위\n",
    "df['A6_1'].value_counts()"
   ]
  },
  {
   "cell_type": "markdown",
   "id": "81e82e6f-1137-4777-8568-7fbde1e0779d",
   "metadata": {},
   "source": [
    "1. 인터넷 사이트/모바일 앱(PC/\n",
    "스마트폰)\n",
    "2. 기사및방송프로그램\n",
    "(TV/라디오/신문/잡지)\n",
    "3. 광고\n",
    "(TV/라디오/신문/잡지/지하철/\n",
    "옥외광고판등)\n",
    "4. 여행사(방문,전화)\n",
    "5. 주변인(친지/친구/동료등)\n",
    "6. 관광안내서적\n",
    "7. 과거방문경험\n",
    "8. 정보없이방문\n",
    "9. 기타"
   ]
  },
  {
   "cell_type": "code",
   "execution_count": null,
   "id": "0da9204d-adfa-4d88-a9a9-83dbc77adc55",
   "metadata": {},
   "outputs": [],
   "source": []
  },
  {
   "cell_type": "code",
   "execution_count": null,
   "id": "ba7dac9c-710f-4942-879a-90b9f5364637",
   "metadata": {},
   "outputs": [],
   "source": []
  },
  {
   "cell_type": "code",
   "execution_count": 12,
   "id": "6ec43944-768f-403d-ab29-ef7a9896db50",
   "metadata": {},
   "outputs": [
    {
     "data": {
      "text/plain": [
       "Text(0.5, 1.0, '2020 여행 전반적 만족도')"
      ]
     },
     "execution_count": 12,
     "metadata": {},
     "output_type": "execute_result"
    },
    {
     "data": {
      "image/png": "[encoded data removed]",
      "text/plain": [
       "<Figure size 360x360 with 1 Axes>"
      ]
     },
     "metadata": {
      "needs_background": "light"
     },
     "output_type": "display_data"
    }
   ],
   "source": [
    "# 전반적 만족도\n",
    "sns.displot(df['A11'])\n",
    "plt.title('2020 여행 전반적 만족도')"
   ]
  },
  {
   "cell_type": "markdown",
   "id": "8eeca881-9138-4f7a-948b-657e732598c2",
   "metadata": {},
   "source": [
    "1. 매우 불만족\n",
    "2. 불만족\n",
    "3. 보통\n",
    "4. 만족\n",
    "5. 매우만족"
   ]
  },
  {
   "cell_type": "code",
   "execution_count": null,
   "id": "893c73aa-3318-4e38-8d60-60e2aa5450d1",
   "metadata": {},
   "outputs": [],
   "source": []
  },
  {
   "cell_type": "code",
   "execution_count": 13,
   "id": "a9811f95-c7ae-4a91-a1e8-a343a5786e06",
   "metadata": {},
   "outputs": [
    {
     "data": {
      "text/plain": [
       "Text(0.5, 1.0, '2020 여행 재방문 의도')"
      ]
     },
     "execution_count": 13,
     "metadata": {},
     "output_type": "execute_result"
    },
    {
     "data": {
      "image/png": "[encoded data removed]",
      "text/plain": [
       "<Figure size 360x360 with 1 Axes>"
      ]
     },
     "metadata": {
      "needs_background": "light"
     },
     "output_type": "display_data"
    }
   ],
   "source": [
    "# 재방문 의도\n",
    "sns.displot(df['A12'])\n",
    "plt.title('2020 여행 재방문 의도')"
   ]
  },
  {
   "cell_type": "code",
   "execution_count": 14,
   "id": "5d8e2107-3535-48d3-8143-a404fef61841",
   "metadata": {},
   "outputs": [
    {
     "data": {
      "text/plain": [
       "Text(0.5, 1.0, '2020 여행 타인 추천 의도')"
      ]
     },
     "execution_count": 14,
     "metadata": {},
     "output_type": "execute_result"
    },
    {
     "data": {
      "image/png": "[encoded data removed]",
      "text/plain": [
       "<Figure size 360x360 with 1 Axes>"
      ]
     },
     "metadata": {
      "needs_background": "light"
     },
     "output_type": "display_data"
    }
   ],
   "source": [
    "# 타인 추천 의도\n",
    "sns.displot(df['A13'])\n",
    "plt.title('2020 여행 타인 추천 의도')"
   ]
  },
  {
   "cell_type": "markdown",
   "id": "cc27f4a6-09c8-48ab-ba49-663846f8425b",
   "metadata": {},
   "source": [
    "1. 매우 낮음\n",
    "2. 낮음\n",
    "3. 보통\n",
    "4. 높음\n",
    "5. 매우높음"
   ]
  },
  {
   "cell_type": "code",
   "execution_count": null,
   "id": "4da32d69-08d2-4704-b3f8-9549b100f207",
   "metadata": {},
   "outputs": [],
   "source": []
  },
  {
   "cell_type": "code",
   "execution_count": 15,
   "id": "2c1b017f-7ab1-4c52-b400-694a3896b9e9",
   "metadata": {},
   "outputs": [
    {
     "data": {
      "text/plain": [
       "Text(0.5, 1.0, '2020 월 평균 개인 소득')"
      ]
     },
     "execution_count": 15,
     "metadata": {},
     "output_type": "execute_result"
    },
    {
     "data": {
      "image/png": "[encoded data removed]",
      "text/plain": [
       "<Figure size 360x360 with 1 Axes>"
      ]
     },
     "metadata": {
      "needs_background": "light"
     },
     "output_type": "display_data"
    }
   ],
   "source": [
    "# 월 평균 본인 소득\n",
    "sns.displot(df['DQ6A'])\n",
    "plt.title('2020 월 평균 개인 소득')"
   ]
  },
  {
   "cell_type": "code",
   "execution_count": 16,
   "id": "52561a4d-5560-4bde-a580-e0da8c91821e",
   "metadata": {},
   "outputs": [
    {
     "data": {
      "text/plain": [
       "Text(0.5, 1.0, '2020 월 평균 가구 소득')"
      ]
     },
     "execution_count": 16,
     "metadata": {},
     "output_type": "execute_result"
    },
    {
     "data": {
      "image/png": "[encoded data removed]",
      "text/plain": [
       "<Figure size 360x360 with 1 Axes>"
      ]
     },
     "metadata": {
      "needs_background": "light"
     },
     "output_type": "display_data"
    }
   ],
   "source": [
    "# 월 평균 가구 소득\n",
    "sns.displot(df['DQ6B'])\n",
    "plt.title('2020 월 평균 가구 소득')"
   ]
  },
  {
   "cell_type": "markdown",
   "id": "db5d6c79-216b-4cfe-84ec-e39f5e7a7fdb",
   "metadata": {},
   "source": [
    "### **거주지역**\n",
    "- 2030 설문대상 거주지역\n",
    "\n",
    "- from 서울 to / - from 경기 to / - from 부산 to / - from 광주 to"
   ]
  },
  {
   "cell_type": "code",
   "execution_count": 17,
   "id": "9c15f51d-5c16-4641-b391-9d24f37ea5c4",
   "metadata": {},
   "outputs": [
    {
     "data": {
      "text/plain": [
       "<seaborn.axisgrid.FacetGrid at 0x1fc805f8808>"
      ]
     },
     "execution_count": 17,
     "metadata": {},
     "output_type": "execute_result"
    },
    {
     "data": {
      "image/png": "[encoded data removed]",
      "text/plain": [
       "<Figure size 360x360 with 1 Axes>"
      ]
     },
     "metadata": {
      "needs_background": "light"
     },
     "output_type": "display_data"
    }
   ],
   "source": [
    "# 거주지역\n",
    "sns.displot(df['BARA'])\n",
    "#plt.title('2020 설문 조사 대상 거주지역')"
   ]
  },
  {
   "cell_type": "code",
   "execution_count": null,
   "id": "002c9c16-9d06-4c04-acba-b21ba98d4eac",
   "metadata": {},
   "outputs": [],
   "source": [
    "# 거주지역 => 여행지"
   ]
  },
  {
   "cell_type": "code",
   "execution_count": 20,
   "id": "fec592cf-5756-49ac-812c-4c2dbade55f9",
   "metadata": {},
   "outputs": [
    {
     "data": {
      "text/plain": [
       "Int64Index([  0,   1,   2,   3,   4,   5,   6,   7,   8,   9,\n",
       "            ...\n",
       "            865, 866, 867, 868, 869, 870, 871, 872, 873, 874],\n",
       "           dtype='int64', length=875)"
      ]
     },
     "execution_count": 20,
     "metadata": {},
     "output_type": "execute_result"
    }
   ],
   "source": [
    "# 서울\n",
    "df[df['BARA'] == 1].index"
   ]
  },
  {
   "cell_type": "code",
   "execution_count": 25,
   "id": "b4be11fc-8b19-4fb6-afd1-374a8b7ce717",
   "metadata": {},
   "outputs": [],
   "source": [
    "seoul_all = df[:875]"
   ]
  },
  {
   "cell_type": "code",
   "execution_count": 26,
   "id": "b53f5221-7277-43ac-81a6-35125036edf6",
   "metadata": {},
   "outputs": [
    {
     "data": {
      "text/plain": [
       "31370    85\n",
       "31380    57\n",
       "32010    55\n",
       "32030    45\n",
       "23310    39\n",
       "         ..\n",
       "36420     1\n",
       "22020     1\n",
       "36430     1\n",
       "29010     1\n",
       "21020     1\n",
       "Name: D_TRA1_1_SPOT, Length: 121, dtype: int64"
      ]
     },
     "execution_count": 26,
     "metadata": {},
     "output_type": "execute_result"
    }
   ],
   "source": [
    "seoul_all.D_TRA1_1_SPOT.value_counts()"
   ]
  },
  {
   "cell_type": "code",
   "execution_count": 27,
   "id": "e1d915ac-7f36-443f-89aa-d5da28305d3e",
   "metadata": {},
   "outputs": [],
   "source": [
    "seoul = seoul_all.D_TRA1_1_SPOT.value_counts().rename_axis('from_seoul_to').reset_index(name='freq')"
   ]
  },
  {
   "cell_type": "code",
   "execution_count": 40,
   "id": "35299f1c-62aa-40f8-8519-4c01f0c185c4",
   "metadata": {},
   "outputs": [
    {
     "data": {
      "text/html": [
       "<div>\n",
       "<style scoped>\n",
       "    .dataframe tbody tr th:only-of-type {\n",
       "        vertical-align: middle;\n",
       "    }\n",
       "\n",
       "    .dataframe tbody tr th {\n",
       "        vertical-align: top;\n",
       "    }\n",
       "\n",
       "    .dataframe thead th {\n",
       "        text-align: right;\n",
       "    }\n",
       "</style>\n",
       "<table border=\"1\" class=\"dataframe\">\n",
       "  <thead>\n",
       "    <tr style=\"text-align: right;\">\n",
       "      <th></th>\n",
       "      <th>from_seoul_to</th>\n",
       "      <th>freq</th>\n",
       "    </tr>\n",
       "  </thead>\n",
       "  <tbody>\n",
       "    <tr>\n",
       "      <th>0</th>\n",
       "      <td>31370</td>\n",
       "      <td>85</td>\n",
       "    </tr>\n",
       "    <tr>\n",
       "      <th>1</th>\n",
       "      <td>31380</td>\n",
       "      <td>57</td>\n",
       "    </tr>\n",
       "    <tr>\n",
       "      <th>2</th>\n",
       "      <td>32010</td>\n",
       "      <td>55</td>\n",
       "    </tr>\n",
       "    <tr>\n",
       "      <th>3</th>\n",
       "      <td>32030</td>\n",
       "      <td>45</td>\n",
       "    </tr>\n",
       "    <tr>\n",
       "      <th>4</th>\n",
       "      <td>23310</td>\n",
       "      <td>39</td>\n",
       "    </tr>\n",
       "    <tr>\n",
       "      <th>5</th>\n",
       "      <td>32060</td>\n",
       "      <td>35</td>\n",
       "    </tr>\n",
       "    <tr>\n",
       "      <th>6</th>\n",
       "      <td>31130</td>\n",
       "      <td>30</td>\n",
       "    </tr>\n",
       "    <tr>\n",
       "      <th>7</th>\n",
       "      <td>31270</td>\n",
       "      <td>27</td>\n",
       "    </tr>\n",
       "    <tr>\n",
       "      <th>8</th>\n",
       "      <td>39010</td>\n",
       "      <td>27</td>\n",
       "    </tr>\n",
       "    <tr>\n",
       "      <th>9</th>\n",
       "      <td>31200</td>\n",
       "      <td>22</td>\n",
       "    </tr>\n",
       "    <tr>\n",
       "      <th>10</th>\n",
       "      <td>32410</td>\n",
       "      <td>21</td>\n",
       "    </tr>\n",
       "    <tr>\n",
       "      <th>11</th>\n",
       "      <td>39020</td>\n",
       "      <td>21</td>\n",
       "    </tr>\n",
       "    <tr>\n",
       "      <th>12</th>\n",
       "      <td>23010</td>\n",
       "      <td>20</td>\n",
       "    </tr>\n",
       "    <tr>\n",
       "      <th>13</th>\n",
       "      <td>34380</td>\n",
       "      <td>19</td>\n",
       "    </tr>\n",
       "    <tr>\n",
       "      <th>14</th>\n",
       "      <td>21090</td>\n",
       "      <td>18</td>\n",
       "    </tr>\n",
       "    <tr>\n",
       "      <th>15</th>\n",
       "      <td>31100</td>\n",
       "      <td>13</td>\n",
       "    </tr>\n",
       "    <tr>\n",
       "      <th>16</th>\n",
       "      <td>31190</td>\n",
       "      <td>13</td>\n",
       "    </tr>\n",
       "    <tr>\n",
       "      <th>17</th>\n",
       "      <td>31230</td>\n",
       "      <td>12</td>\n",
       "    </tr>\n",
       "    <tr>\n",
       "      <th>18</th>\n",
       "      <td>31090</td>\n",
       "      <td>12</td>\n",
       "    </tr>\n",
       "    <tr>\n",
       "      <th>19</th>\n",
       "      <td>34030</td>\n",
       "      <td>11</td>\n",
       "    </tr>\n",
       "  </tbody>\n",
       "</table>\n",
       "</div>"
      ],
      "text/plain": [
       "    from_seoul_to  freq\n",
       "0           31370    85\n",
       "1           31380    57\n",
       "2           32010    55\n",
       "3           32030    45\n",
       "4           23310    39\n",
       "5           32060    35\n",
       "6           31130    30\n",
       "7           31270    27\n",
       "8           39010    27\n",
       "9           31200    22\n",
       "10          32410    21\n",
       "11          39020    21\n",
       "12          23010    20\n",
       "13          34380    19\n",
       "14          21090    18\n",
       "15          31100    13\n",
       "16          31190    13\n",
       "17          31230    12\n",
       "18          31090    12\n",
       "19          34030    11"
      ]
     },
     "execution_count": 40,
     "metadata": {},
     "output_type": "execute_result"
    }
   ],
   "source": [
    "seoul.head(20)"
   ]
  },
  {
   "cell_type": "code",
   "execution_count": 46,
   "id": "b2300438-4461-4cba-9370-7c11724cdd37",
   "metadata": {},
   "outputs": [],
   "source": [
    "seoul.head(20).to_csv('top20_seoul_2020.csv', header=True, index=False, encoding = 'utf-8-sig')"
   ]
  },
  {
   "cell_type": "code",
   "execution_count": 32,
   "id": "7cc518db-fe89-40a6-a3a2-4062b85151cd",
   "metadata": {},
   "outputs": [
    {
     "data": {
      "text/plain": [
       "Int64Index([3316, 3317, 3318, 3319, 3320, 3321, 3322, 3323, 3324, 3325,\n",
       "            ...\n",
       "            4107, 4108, 4109, 4110, 4111, 4112, 4113, 4114, 4115, 4116],\n",
       "           dtype='int64', length=801)"
      ]
     },
     "execution_count": 32,
     "metadata": {},
     "output_type": "execute_result"
    }
   ],
   "source": [
    "# 경기도\n",
    "df[df['BARA'] == 9].index "
   ]
  },
  {
   "cell_type": "code",
   "execution_count": 34,
   "id": "37e3dce5-01b3-4448-b208-cedcb356413f",
   "metadata": {},
   "outputs": [
    {
     "data": {
      "text/plain": [
       "31370    46\n",
       "32030    40\n",
       "39020    31\n",
       "32010    31\n",
       "23010    28\n",
       "         ..\n",
       "35380     1\n",
       "22070     1\n",
       "21050     1\n",
       "33340     1\n",
       "11250     1\n",
       "Name: D_TRA1_1_SPOT, Length: 140, dtype: int64"
      ]
     },
     "execution_count": 34,
     "metadata": {},
     "output_type": "execute_result"
    }
   ],
   "source": [
    "gg_all = df[3316:4117]\n",
    "gg_all.D_TRA1_1_SPOT.value_counts()"
   ]
  },
  {
   "cell_type": "code",
   "execution_count": 37,
   "id": "25f01697-50ec-47e1-810a-ad0ec313cdab",
   "metadata": {},
   "outputs": [
    {
     "data": {
      "text/html": [
       "<div>\n",
       "<style scoped>\n",
       "    .dataframe tbody tr th:only-of-type {\n",
       "        vertical-align: middle;\n",
       "    }\n",
       "\n",
       "    .dataframe tbody tr th {\n",
       "        vertical-align: top;\n",
       "    }\n",
       "\n",
       "    .dataframe thead th {\n",
       "        text-align: right;\n",
       "    }\n",
       "</style>\n",
       "<table border=\"1\" class=\"dataframe\">\n",
       "  <thead>\n",
       "    <tr style=\"text-align: right;\">\n",
       "      <th></th>\n",
       "      <th>from_gg_to</th>\n",
       "      <th>freq</th>\n",
       "    </tr>\n",
       "  </thead>\n",
       "  <tbody>\n",
       "    <tr>\n",
       "      <th>0</th>\n",
       "      <td>31370</td>\n",
       "      <td>46</td>\n",
       "    </tr>\n",
       "    <tr>\n",
       "      <th>1</th>\n",
       "      <td>32030</td>\n",
       "      <td>40</td>\n",
       "    </tr>\n",
       "    <tr>\n",
       "      <th>2</th>\n",
       "      <td>39020</td>\n",
       "      <td>31</td>\n",
       "    </tr>\n",
       "    <tr>\n",
       "      <th>3</th>\n",
       "      <td>32010</td>\n",
       "      <td>31</td>\n",
       "    </tr>\n",
       "    <tr>\n",
       "      <th>4</th>\n",
       "      <td>23010</td>\n",
       "      <td>28</td>\n",
       "    </tr>\n",
       "    <tr>\n",
       "      <th>5</th>\n",
       "      <td>31380</td>\n",
       "      <td>28</td>\n",
       "    </tr>\n",
       "    <tr>\n",
       "      <th>6</th>\n",
       "      <td>31240</td>\n",
       "      <td>27</td>\n",
       "    </tr>\n",
       "    <tr>\n",
       "      <th>7</th>\n",
       "      <td>31200</td>\n",
       "      <td>21</td>\n",
       "    </tr>\n",
       "    <tr>\n",
       "      <th>8</th>\n",
       "      <td>23310</td>\n",
       "      <td>20</td>\n",
       "    </tr>\n",
       "    <tr>\n",
       "      <th>9</th>\n",
       "      <td>31190</td>\n",
       "      <td>18</td>\n",
       "    </tr>\n",
       "    <tr>\n",
       "      <th>10</th>\n",
       "      <td>11230</td>\n",
       "      <td>18</td>\n",
       "    </tr>\n",
       "    <tr>\n",
       "      <th>11</th>\n",
       "      <td>32060</td>\n",
       "      <td>17</td>\n",
       "    </tr>\n",
       "    <tr>\n",
       "      <th>12</th>\n",
       "      <td>21090</td>\n",
       "      <td>17</td>\n",
       "    </tr>\n",
       "    <tr>\n",
       "      <th>13</th>\n",
       "      <td>11240</td>\n",
       "      <td>17</td>\n",
       "    </tr>\n",
       "    <tr>\n",
       "      <th>14</th>\n",
       "      <td>34380</td>\n",
       "      <td>16</td>\n",
       "    </tr>\n",
       "    <tr>\n",
       "      <th>15</th>\n",
       "      <td>39010</td>\n",
       "      <td>16</td>\n",
       "    </tr>\n",
       "    <tr>\n",
       "      <th>16</th>\n",
       "      <td>11010</td>\n",
       "      <td>15</td>\n",
       "    </tr>\n",
       "    <tr>\n",
       "      <th>17</th>\n",
       "      <td>34030</td>\n",
       "      <td>15</td>\n",
       "    </tr>\n",
       "    <tr>\n",
       "      <th>18</th>\n",
       "      <td>31110</td>\n",
       "      <td>13</td>\n",
       "    </tr>\n",
       "    <tr>\n",
       "      <th>19</th>\n",
       "      <td>32340</td>\n",
       "      <td>12</td>\n",
       "    </tr>\n",
       "  </tbody>\n",
       "</table>\n",
       "</div>"
      ],
      "text/plain": [
       "    from_gg_to  freq\n",
       "0        31370    46\n",
       "1        32030    40\n",
       "2        39020    31\n",
       "3        32010    31\n",
       "4        23010    28\n",
       "5        31380    28\n",
       "6        31240    27\n",
       "7        31200    21\n",
       "8        23310    20\n",
       "9        31190    18\n",
       "10       11230    18\n",
       "11       32060    17\n",
       "12       21090    17\n",
       "13       11240    17\n",
       "14       34380    16\n",
       "15       39010    16\n",
       "16       11010    15\n",
       "17       34030    15\n",
       "18       31110    13\n",
       "19       32340    12"
      ]
     },
     "execution_count": 37,
     "metadata": {},
     "output_type": "execute_result"
    }
   ],
   "source": [
    "gg = gg_all.D_TRA1_1_SPOT.value_counts().rename_axis('from_gg_to').reset_index(name='freq')\n",
    "gg.head(20)"
   ]
  },
  {
   "cell_type": "code",
   "execution_count": 38,
   "id": "f100b417-0571-4c45-89be-2e64dbe3e1a8",
   "metadata": {},
   "outputs": [],
   "source": [
    "gg.head(20).to_csv('top20_Gyeonggi_2020.csv', header=True, index=False, encoding = 'utf-8-sig')"
   ]
  },
  {
   "cell_type": "code",
   "execution_count": null,
   "id": "87c86752-2f63-46ee-8375-f99914e6e5c2",
   "metadata": {},
   "outputs": [],
   "source": []
  },
  {
   "cell_type": "code",
   "execution_count": 41,
   "id": "dab6f51e-a352-41b9-827a-ab7bebee32b4",
   "metadata": {},
   "outputs": [
    {
     "data": {
      "text/plain": [
       "Int64Index([ 875,  876,  877,  878,  879,  880,  881,  882,  883,  884,\n",
       "            ...\n",
       "            1324, 1325, 1326, 1327, 1328, 1329, 1330, 1331, 1374, 1375],\n",
       "           dtype='int64', length=459)"
      ]
     },
     "execution_count": 41,
     "metadata": {},
     "output_type": "execute_result"
    }
   ],
   "source": [
    "# 부산\n",
    "df[df['BARA'] == 2].index "
   ]
  },
  {
   "cell_type": "code",
   "execution_count": 43,
   "id": "26893281-99df-4c57-8623-4e3094a9f875",
   "metadata": {},
   "outputs": [],
   "source": [
    "busan_all = df[875:1376]\n",
    "busan_all.D_TRA1_1_SPOT.value_counts()\n",
    "busan = busan_all.D_TRA1_1_SPOT.value_counts().rename_axis('from_busan_to').reset_index(name='freq')\n",
    "#busan.head(20)\n",
    "busan.head(20).to_csv('top20_busan_2020.csv', header=True, index=False, encoding = 'utf-8-sig')"
   ]
  },
  {
   "cell_type": "code",
   "execution_count": 44,
   "id": "56c3dce2-c13c-46e4-92e7-d68061f405d3",
   "metadata": {},
   "outputs": [
    {
     "data": {
      "text/plain": [
       "Int64Index([1963, 1964, 1965, 1966, 1967, 1968, 1969, 1970, 1971, 1972,\n",
       "            ...\n",
       "            2386, 2387, 2388, 2389, 2390, 2391, 2392, 2393, 2394, 2395],\n",
       "           dtype='int64', length=433)"
      ]
     },
     "execution_count": 44,
     "metadata": {},
     "output_type": "execute_result"
    }
   ],
   "source": [
    "# 광주\n",
    "df[df['BARA'] == 5].index "
   ]
  },
  {
   "cell_type": "code",
   "execution_count": 45,
   "id": "bb187cdc-f605-41df-a577-c24c80e0032d",
   "metadata": {},
   "outputs": [],
   "source": [
    "gwangju_all = df[1963:2396]\n",
    "gwangju_all.D_TRA1_1_SPOT.value_counts()\n",
    "gwangju = gwangju_all.D_TRA1_1_SPOT.value_counts().rename_axis('from_gwangju_to').reset_index(name='freq')\n",
    "#gwangju.head(20)\n",
    "gwangju.head(20).to_csv('top20_gwangju_2020.csv', header=True, index=False, encoding = 'utf-8-sig')"
   ]
  },
  {
   "cell_type": "code",
   "execution_count": null,
   "id": "73311fe2-9c48-4290-b3aa-429cf3dafdd9",
   "metadata": {},
   "outputs": [],
   "source": []
  },
  {
   "cell_type": "code",
   "execution_count": null,
   "id": "a2b0e812-2fd3-4685-8f26-d177d68225ad",
   "metadata": {},
   "outputs": [],
   "source": []
  }
 ],
 "metadata": {
  "kernelspec": {
   "display_name": "Python Multi",
   "language": "python",
   "name": "multi"
  },
  "language_info": {
   "codemirror_mode": {
    "name": "ipython",
    "version": 3
   },
   "file_extension": ".py",
   "mimetype": "text/x-python",
   "name": "python",
   "nbconvert_exporter": "python",
   "pygments_lexer": "ipython3",
   "version": "3.7.6"
  }
 },
 "nbformat": 4,
 "nbformat_minor": 5
}
