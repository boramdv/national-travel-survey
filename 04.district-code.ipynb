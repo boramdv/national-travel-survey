{
 "cells": [
  {
   "cell_type": "code",
   "execution_count": 97,
   "id": "b60a808b-11a0-40ee-a6f5-b3b9105091f5",
   "metadata": {},
   "outputs": [],
   "source": [
    "import numpy as np\n",
    "import pandas as pd"
   ]
  },
  {
   "cell_type": "code",
   "execution_count": null,
   "id": "32cb8606-a772-408d-9d74-38a596ed080e",
   "metadata": {},
   "outputs": [],
   "source": [
    "# 한글 폰트\n",
    "import matplotlib\n",
    "import matplotlib.font_manager as fm\n",
    "font_path = \"C:/Windows/Fonts/NGULIM.TTF\"\n",
    "font = fm.FontProperties(fname=font_path).get_name()\n",
    "matplotlib.rc('font', family=font)\n",
    "\n",
    "# # 한글 폰트2\n",
    "# plt.rc('font', family='NanumBarunGothic') "
   ]
  },
  {
   "cell_type": "code",
   "execution_count": 110,
   "id": "335bc65d-e572-4362-8309-be8bbdd7cb32",
   "metadata": {},
   "outputs": [],
   "source": [
    "df = pd.read_csv('2020_Domestic_Tour_FS.csv', encoding='utf-8')"
   ]
  },
  {
   "cell_type": "markdown",
   "id": "00be2aa6-fe18-48cf-be73-04d1ea9dc7f8",
   "metadata": {},
   "source": [
    "### **1차여행 첫번째 방문지 빈도**"
   ]
  },
  {
   "cell_type": "code",
   "execution_count": 103,
   "id": "c58ffba6-672d-441a-b20c-7c2b65210c14",
   "metadata": {},
   "outputs": [
    {
     "data": {
      "text/plain": [
       "37020    201\n",
       "21090    188\n",
       "31370    179\n",
       "32030    176\n",
       "39020    165\n",
       "        ... \n",
       "11200      1\n",
       "31160      1\n",
       "11120      1\n",
       "11180      1\n",
       "37320      1\n",
       "Name: D_TRA1_1_SPOT, Length: 225, dtype: int64"
      ]
     },
     "execution_count": 103,
     "metadata": {},
     "output_type": "execute_result"
    }
   ],
   "source": [
    "df.D_TRA1_1_SPOT.value_counts() \n",
    "# 경주시, 해운대구, 가평군, 강릉시, 서귀포시"
   ]
  },
  {
   "cell_type": "code",
   "execution_count": 111,
   "id": "3d2ed64b-c53e-4246-8ab6-3c2b83288088",
   "metadata": {},
   "outputs": [],
   "source": [
    "df = df.D_TRA1_1_SPOT.value_counts().rename_axis('dist_code').reset_index(name='freq')"
   ]
  },
  {
   "cell_type": "code",
   "execution_count": 112,
   "id": "d58416e1-b071-4ce3-bc6b-74ef7720c35c",
   "metadata": {},
   "outputs": [
    {
     "data": {
      "text/html": [
       "<div>\n",
       "<style scoped>\n",
       "    .dataframe tbody tr th:only-of-type {\n",
       "        vertical-align: middle;\n",
       "    }\n",
       "\n",
       "    .dataframe tbody tr th {\n",
       "        vertical-align: top;\n",
       "    }\n",
       "\n",
       "    .dataframe thead th {\n",
       "        text-align: right;\n",
       "    }\n",
       "</style>\n",
       "<table border=\"1\" class=\"dataframe\">\n",
       "  <thead>\n",
       "    <tr style=\"text-align: right;\">\n",
       "      <th></th>\n",
       "      <th>dist_code</th>\n",
       "      <th>freq</th>\n",
       "    </tr>\n",
       "  </thead>\n",
       "  <tbody>\n",
       "    <tr>\n",
       "      <th>0</th>\n",
       "      <td>37020</td>\n",
       "      <td>201</td>\n",
       "    </tr>\n",
       "    <tr>\n",
       "      <th>1</th>\n",
       "      <td>21090</td>\n",
       "      <td>188</td>\n",
       "    </tr>\n",
       "    <tr>\n",
       "      <th>2</th>\n",
       "      <td>31370</td>\n",
       "      <td>179</td>\n",
       "    </tr>\n",
       "    <tr>\n",
       "      <th>3</th>\n",
       "      <td>32030</td>\n",
       "      <td>176</td>\n",
       "    </tr>\n",
       "    <tr>\n",
       "      <th>4</th>\n",
       "      <td>39020</td>\n",
       "      <td>165</td>\n",
       "    </tr>\n",
       "    <tr>\n",
       "      <th>5</th>\n",
       "      <td>34030</td>\n",
       "      <td>152</td>\n",
       "    </tr>\n",
       "    <tr>\n",
       "      <th>6</th>\n",
       "      <td>39010</td>\n",
       "      <td>144</td>\n",
       "    </tr>\n",
       "    <tr>\n",
       "      <th>7</th>\n",
       "      <td>36020</td>\n",
       "      <td>124</td>\n",
       "    </tr>\n",
       "    <tr>\n",
       "      <th>8</th>\n",
       "      <td>35010</td>\n",
       "      <td>120</td>\n",
       "    </tr>\n",
       "    <tr>\n",
       "      <th>9</th>\n",
       "      <td>32010</td>\n",
       "      <td>120</td>\n",
       "    </tr>\n",
       "  </tbody>\n",
       "</table>\n",
       "</div>"
      ],
      "text/plain": [
       "   dist_code  freq\n",
       "0      37020   201\n",
       "1      21090   188\n",
       "2      31370   179\n",
       "3      32030   176\n",
       "4      39020   165\n",
       "5      34030   152\n",
       "6      39010   144\n",
       "7      36020   124\n",
       "8      35010   120\n",
       "9      32010   120"
      ]
     },
     "execution_count": 112,
     "metadata": {},
     "output_type": "execute_result"
    }
   ],
   "source": [
    "df.head(10)"
   ]
  },
  {
   "cell_type": "code",
   "execution_count": 113,
   "id": "69c23cd3-5e68-4396-a9e3-09e9790f4027",
   "metadata": {},
   "outputs": [],
   "source": [
    "top100_2020 = df.head(100)"
   ]
  },
  {
   "cell_type": "code",
   "execution_count": 114,
   "id": "efe4eb34-024b-4a38-bb21-b94622d10b14",
   "metadata": {},
   "outputs": [],
   "source": [
    "top100_2020.to_csv('top100_2020.csv', header=True, index=False, encoding = 'utf-8-sig')"
   ]
  },
  {
   "cell_type": "markdown",
   "id": "a00c0815-a3a6-421f-8a1b-fe680bcdc10c",
   "metadata": {},
   "source": [
    "### 코드북 - 시도 및 시군구 코드 변환"
   ]
  },
  {
   "cell_type": "code",
   "execution_count": 60,
   "id": "f6965222-12c2-4bfe-a490-6281118f3cd5",
   "metadata": {},
   "outputs": [],
   "source": [
    "dist = pd.read_csv('district_name.csv', encoding='utf-8')"
   ]
  },
  {
   "cell_type": "code",
   "execution_count": 61,
   "id": "f442c11b-4a62-4471-a13c-7491c8b499ba",
   "metadata": {},
   "outputs": [
    {
     "data": {
      "text/html": [
       "<div>\n",
       "<style scoped>\n",
       "    .dataframe tbody tr th:only-of-type {\n",
       "        vertical-align: middle;\n",
       "    }\n",
       "\n",
       "    .dataframe tbody tr th {\n",
       "        vertical-align: top;\n",
       "    }\n",
       "\n",
       "    .dataframe thead th {\n",
       "        text-align: right;\n",
       "    }\n",
       "</style>\n",
       "<table border=\"1\" class=\"dataframe\">\n",
       "  <thead>\n",
       "    <tr style=\"text-align: right;\">\n",
       "      <th></th>\n",
       "      <th>시/도코드</th>\n",
       "      <th>시/도명</th>\n",
       "      <th>시/군/구명</th>\n",
       "      <th>시/군/구</th>\n",
       "      <th>코드</th>\n",
       "    </tr>\n",
       "  </thead>\n",
       "  <tbody>\n",
       "    <tr>\n",
       "      <th>0</th>\n",
       "      <td>11</td>\n",
       "      <td>서울특별시</td>\n",
       "      <td></td>\n",
       "      <td>NaN</td>\n",
       "      <td>NaN</td>\n",
       "    </tr>\n",
       "    <tr>\n",
       "      <th>1</th>\n",
       "      <td>11</td>\n",
       "      <td>서울특별시</td>\n",
       "      <td>230</td>\n",
       "      <td>강남구</td>\n",
       "      <td>NaN</td>\n",
       "    </tr>\n",
       "    <tr>\n",
       "      <th>2</th>\n",
       "      <td>11</td>\n",
       "      <td>서울특별시</td>\n",
       "      <td>250</td>\n",
       "      <td>강동구</td>\n",
       "      <td>NaN</td>\n",
       "    </tr>\n",
       "    <tr>\n",
       "      <th>3</th>\n",
       "      <td>11</td>\n",
       "      <td>서울특별시</td>\n",
       "      <td>090</td>\n",
       "      <td>강북구</td>\n",
       "      <td>NaN</td>\n",
       "    </tr>\n",
       "    <tr>\n",
       "      <th>4</th>\n",
       "      <td>11</td>\n",
       "      <td>서울특별시</td>\n",
       "      <td>160</td>\n",
       "      <td>강서구</td>\n",
       "      <td>NaN</td>\n",
       "    </tr>\n",
       "    <tr>\n",
       "      <th>...</th>\n",
       "      <td>...</td>\n",
       "      <td>...</td>\n",
       "      <td>...</td>\n",
       "      <td>...</td>\n",
       "      <td>...</td>\n",
       "    </tr>\n",
       "    <tr>\n",
       "      <th>240</th>\n",
       "      <td>36</td>\n",
       "      <td>전라남도</td>\n",
       "      <td>400</td>\n",
       "      <td>해남군</td>\n",
       "      <td>NaN</td>\n",
       "    </tr>\n",
       "    <tr>\n",
       "      <th>241</th>\n",
       "      <td>36</td>\n",
       "      <td>전라남도</td>\n",
       "      <td>370</td>\n",
       "      <td>화순군</td>\n",
       "      <td>NaN</td>\n",
       "    </tr>\n",
       "    <tr>\n",
       "      <th>242</th>\n",
       "      <td>39</td>\n",
       "      <td>제주특별자치도</td>\n",
       "      <td></td>\n",
       "      <td>NaN</td>\n",
       "      <td>NaN</td>\n",
       "    </tr>\n",
       "    <tr>\n",
       "      <th>243</th>\n",
       "      <td>39</td>\n",
       "      <td>제주특별자치도</td>\n",
       "      <td>010</td>\n",
       "      <td>제주시</td>\n",
       "      <td>NaN</td>\n",
       "    </tr>\n",
       "    <tr>\n",
       "      <th>244</th>\n",
       "      <td>39</td>\n",
       "      <td>제주특별자치도</td>\n",
       "      <td>020</td>\n",
       "      <td>서귀포시</td>\n",
       "      <td>NaN</td>\n",
       "    </tr>\n",
       "  </tbody>\n",
       "</table>\n",
       "<p>245 rows × 5 columns</p>\n",
       "</div>"
      ],
      "text/plain": [
       "     시/도코드     시/도명 시/군/구명 시/군/구  코드\n",
       "0       11    서울특별시     　　   NaN NaN\n",
       "1       11    서울특별시    230   강남구 NaN\n",
       "2       11    서울특별시    250   강동구 NaN\n",
       "3       11    서울특별시    090   강북구 NaN\n",
       "4       11    서울특별시    160   강서구 NaN\n",
       "..     ...      ...    ...   ...  ..\n",
       "240     36     전라남도    400   해남군 NaN\n",
       "241     36     전라남도    370   화순군 NaN\n",
       "242     39  제주특별자치도     　　   NaN NaN\n",
       "243     39  제주특별자치도    010   제주시 NaN\n",
       "244     39  제주특별자치도    020  서귀포시 NaN\n",
       "\n",
       "[245 rows x 5 columns]"
      ]
     },
     "execution_count": 61,
     "metadata": {},
     "output_type": "execute_result"
    }
   ],
   "source": [
    "dist"
   ]
  },
  {
   "cell_type": "code",
   "execution_count": 81,
   "id": "21bb662c-4f7c-4f8e-8ce9-434b5c038ce1",
   "metadata": {
    "tags": []
   },
   "outputs": [
    {
     "data": {
      "text/html": [
       "<div>\n",
       "<style scoped>\n",
       "    .dataframe tbody tr th:only-of-type {\n",
       "        vertical-align: middle;\n",
       "    }\n",
       "\n",
       "    .dataframe tbody tr th {\n",
       "        vertical-align: top;\n",
       "    }\n",
       "\n",
       "    .dataframe thead th {\n",
       "        text-align: right;\n",
       "    }\n",
       "</style>\n",
       "<table border=\"1\" class=\"dataframe\">\n",
       "  <thead>\n",
       "    <tr style=\"text-align: right;\">\n",
       "      <th></th>\n",
       "      <th>시/도코드</th>\n",
       "      <th>시/군/구명</th>\n",
       "      <th>시/도명</th>\n",
       "      <th>시/군/구</th>\n",
       "      <th>code</th>\n",
       "    </tr>\n",
       "  </thead>\n",
       "  <tbody>\n",
       "    <tr>\n",
       "      <th>1</th>\n",
       "      <td>11</td>\n",
       "      <td>230</td>\n",
       "      <td>서울특별시</td>\n",
       "      <td>강남구</td>\n",
       "      <td>11230</td>\n",
       "    </tr>\n",
       "    <tr>\n",
       "      <th>2</th>\n",
       "      <td>11</td>\n",
       "      <td>250</td>\n",
       "      <td>서울특별시</td>\n",
       "      <td>강동구</td>\n",
       "      <td>11250</td>\n",
       "    </tr>\n",
       "    <tr>\n",
       "      <th>3</th>\n",
       "      <td>11</td>\n",
       "      <td>090</td>\n",
       "      <td>서울특별시</td>\n",
       "      <td>강북구</td>\n",
       "      <td>11090</td>\n",
       "    </tr>\n",
       "    <tr>\n",
       "      <th>4</th>\n",
       "      <td>11</td>\n",
       "      <td>160</td>\n",
       "      <td>서울특별시</td>\n",
       "      <td>강서구</td>\n",
       "      <td>11160</td>\n",
       "    </tr>\n",
       "    <tr>\n",
       "      <th>5</th>\n",
       "      <td>11</td>\n",
       "      <td>210</td>\n",
       "      <td>서울특별시</td>\n",
       "      <td>관악구</td>\n",
       "      <td>11210</td>\n",
       "    </tr>\n",
       "    <tr>\n",
       "      <th>...</th>\n",
       "      <td>...</td>\n",
       "      <td>...</td>\n",
       "      <td>...</td>\n",
       "      <td>...</td>\n",
       "      <td>...</td>\n",
       "    </tr>\n",
       "    <tr>\n",
       "      <th>239</th>\n",
       "      <td>36</td>\n",
       "      <td>430</td>\n",
       "      <td>전라남도</td>\n",
       "      <td>함평군</td>\n",
       "      <td>36430</td>\n",
       "    </tr>\n",
       "    <tr>\n",
       "      <th>240</th>\n",
       "      <td>36</td>\n",
       "      <td>400</td>\n",
       "      <td>전라남도</td>\n",
       "      <td>해남군</td>\n",
       "      <td>36400</td>\n",
       "    </tr>\n",
       "    <tr>\n",
       "      <th>241</th>\n",
       "      <td>36</td>\n",
       "      <td>370</td>\n",
       "      <td>전라남도</td>\n",
       "      <td>화순군</td>\n",
       "      <td>36370</td>\n",
       "    </tr>\n",
       "    <tr>\n",
       "      <th>243</th>\n",
       "      <td>39</td>\n",
       "      <td>010</td>\n",
       "      <td>제주특별자치도</td>\n",
       "      <td>제주시</td>\n",
       "      <td>39010</td>\n",
       "    </tr>\n",
       "    <tr>\n",
       "      <th>244</th>\n",
       "      <td>39</td>\n",
       "      <td>020</td>\n",
       "      <td>제주특별자치도</td>\n",
       "      <td>서귀포시</td>\n",
       "      <td>39020</td>\n",
       "    </tr>\n",
       "  </tbody>\n",
       "</table>\n",
       "<p>229 rows × 5 columns</p>\n",
       "</div>"
      ],
      "text/plain": [
       "    시/도코드 시/군/구명     시/도명 시/군/구   code\n",
       "1      11    230    서울특별시   강남구  11230\n",
       "2      11    250    서울특별시   강동구  11250\n",
       "3      11    090    서울특별시   강북구  11090\n",
       "4      11    160    서울특별시   강서구  11160\n",
       "5      11    210    서울특별시   관악구  11210\n",
       "..    ...    ...      ...   ...    ...\n",
       "239    36    430     전라남도   함평군  36430\n",
       "240    36    400     전라남도   해남군  36400\n",
       "241    36    370     전라남도   화순군  36370\n",
       "243    39    010  제주특별자치도   제주시  39010\n",
       "244    39    020  제주특별자치도  서귀포시  39020\n",
       "\n",
       "[229 rows x 5 columns]"
      ]
     },
     "execution_count": 81,
     "metadata": {},
     "output_type": "execute_result"
    }
   ],
   "source": [
    "# 마지막 열 제거\n",
    "dist = dist.iloc[:, :-1]\n",
    "dist"
   ]
  },
  {
   "cell_type": "code",
   "execution_count": 64,
   "id": "899fd492-03ec-4b5b-bd63-31a17436eb6d",
   "metadata": {},
   "outputs": [],
   "source": [
    "# 시/도코드만 있는 경우 제거\n",
    "dist = dist.dropna(axis=0)\n",
    "dist"
   ]
  },
  {
   "cell_type": "code",
   "execution_count": 66,
   "id": "d6c56e64-36aa-45b1-9e4b-b12d41abb47b",
   "metadata": {},
   "outputs": [],
   "source": [
    "# column 순서 바꾸기\n",
    "dist = dist[['시/도코드', '시/군/구명', '시/도명', '시/군/구']]\n",
    "dist"
   ]
  },
  {
   "cell_type": "code",
   "execution_count": 68,
   "id": "b6577b83-9504-44ee-97d6-d81d44ee749b",
   "metadata": {},
   "outputs": [
    {
     "name": "stdout",
     "output_type": "stream",
     "text": [
      "<class 'pandas.core.frame.DataFrame'>\n",
      "Int64Index: 229 entries, 1 to 244\n",
      "Data columns (total 4 columns):\n",
      " #   Column  Non-Null Count  Dtype \n",
      "---  ------  --------------  ----- \n",
      " 0   시/도코드   229 non-null    int64 \n",
      " 1   시/군/구명  229 non-null    object\n",
      " 2   시/도명    229 non-null    object\n",
      " 3   시/군/구   229 non-null    object\n",
      "dtypes: int64(1), object(3)\n",
      "memory usage: 8.9+ KB\n"
     ]
    }
   ],
   "source": [
    "dist.info()"
   ]
  },
  {
   "cell_type": "code",
   "execution_count": 69,
   "id": "9e51f472-70bd-4330-8381-2b91ee7cc63e",
   "metadata": {},
   "outputs": [],
   "source": [
    "# 시/도코드 int -> str\n",
    "dist['시/도코드'] = dist['시/도코드'].apply(str)\n",
    "dist.info()"
   ]
  },
  {
   "cell_type": "code",
   "execution_count": 71,
   "id": "6b137755-c6f5-4e62-a42e-ff635d489ea8",
   "metadata": {
    "tags": []
   },
   "outputs": [],
   "source": [
    "dist['code'] = dist['시/도코드'] + dist['시/군/구명']\n",
    "dist['code']"
   ]
  },
  {
   "cell_type": "code",
   "execution_count": 75,
   "id": "d79c5332-4f21-48a4-ba08-122cce324142",
   "metadata": {},
   "outputs": [],
   "source": [
    "dist['dist_name'] = dist['시/도명'] + ' ' + dist['시/군/구']\n",
    "dist['dist_name']"
   ]
  },
  {
   "cell_type": "code",
   "execution_count": 77,
   "id": "78e701eb-b949-47f0-a643-95dbaed526db",
   "metadata": {},
   "outputs": [],
   "source": [
    "dist_name = pd.concat([dist['code'], dist['dist_name']], axis=1)"
   ]
  },
  {
   "cell_type": "code",
   "execution_count": 78,
   "id": "4ee2c732-bc4b-46cf-997a-fb6686e7e022",
   "metadata": {},
   "outputs": [
    {
     "data": {
      "text/html": [
       "<div>\n",
       "<style scoped>\n",
       "    .dataframe tbody tr th:only-of-type {\n",
       "        vertical-align: middle;\n",
       "    }\n",
       "\n",
       "    .dataframe tbody tr th {\n",
       "        vertical-align: top;\n",
       "    }\n",
       "\n",
       "    .dataframe thead th {\n",
       "        text-align: right;\n",
       "    }\n",
       "</style>\n",
       "<table border=\"1\" class=\"dataframe\">\n",
       "  <thead>\n",
       "    <tr style=\"text-align: right;\">\n",
       "      <th></th>\n",
       "      <th>code</th>\n",
       "      <th>dist_name</th>\n",
       "    </tr>\n",
       "  </thead>\n",
       "  <tbody>\n",
       "    <tr>\n",
       "      <th>1</th>\n",
       "      <td>11230</td>\n",
       "      <td>서울특별시 강남구</td>\n",
       "    </tr>\n",
       "    <tr>\n",
       "      <th>2</th>\n",
       "      <td>11250</td>\n",
       "      <td>서울특별시 강동구</td>\n",
       "    </tr>\n",
       "    <tr>\n",
       "      <th>3</th>\n",
       "      <td>11090</td>\n",
       "      <td>서울특별시 강북구</td>\n",
       "    </tr>\n",
       "    <tr>\n",
       "      <th>4</th>\n",
       "      <td>11160</td>\n",
       "      <td>서울특별시 강서구</td>\n",
       "    </tr>\n",
       "    <tr>\n",
       "      <th>5</th>\n",
       "      <td>11210</td>\n",
       "      <td>서울특별시 관악구</td>\n",
       "    </tr>\n",
       "    <tr>\n",
       "      <th>...</th>\n",
       "      <td>...</td>\n",
       "      <td>...</td>\n",
       "    </tr>\n",
       "    <tr>\n",
       "      <th>239</th>\n",
       "      <td>36430</td>\n",
       "      <td>전라남도 함평군</td>\n",
       "    </tr>\n",
       "    <tr>\n",
       "      <th>240</th>\n",
       "      <td>36400</td>\n",
       "      <td>전라남도 해남군</td>\n",
       "    </tr>\n",
       "    <tr>\n",
       "      <th>241</th>\n",
       "      <td>36370</td>\n",
       "      <td>전라남도 화순군</td>\n",
       "    </tr>\n",
       "    <tr>\n",
       "      <th>243</th>\n",
       "      <td>39010</td>\n",
       "      <td>제주특별자치도 제주시</td>\n",
       "    </tr>\n",
       "    <tr>\n",
       "      <th>244</th>\n",
       "      <td>39020</td>\n",
       "      <td>제주특별자치도 서귀포시</td>\n",
       "    </tr>\n",
       "  </tbody>\n",
       "</table>\n",
       "<p>229 rows × 2 columns</p>\n",
       "</div>"
      ],
      "text/plain": [
       "      code     dist_name\n",
       "1    11230     서울특별시 강남구\n",
       "2    11250     서울특별시 강동구\n",
       "3    11090     서울특별시 강북구\n",
       "4    11160     서울특별시 강서구\n",
       "5    11210     서울특별시 관악구\n",
       "..     ...           ...\n",
       "239  36430      전라남도 함평군\n",
       "240  36400      전라남도 해남군\n",
       "241  36370      전라남도 화순군\n",
       "243  39010   제주특별자치도 제주시\n",
       "244  39020  제주특별자치도 서귀포시\n",
       "\n",
       "[229 rows x 2 columns]"
      ]
     },
     "execution_count": 78,
     "metadata": {},
     "output_type": "execute_result"
    }
   ],
   "source": [
    "dist_name"
   ]
  },
  {
   "cell_type": "code",
   "execution_count": 80,
   "id": "a34ace11-4610-4b0f-85e7-b110f4d584d9",
   "metadata": {},
   "outputs": [],
   "source": [
    "dist_name.to_csv('district_code.csv', header=True, index=False, encoding = 'utf-8-sig')"
   ]
  },
  {
   "cell_type": "markdown",
   "id": "2cb5026d-a65a-45c0-b324-1c088de9bbdd",
   "metadata": {},
   "source": [
    "### code - freq - dist_name"
   ]
  },
  {
   "cell_type": "code",
   "execution_count": null,
   "id": "54b90424-e24d-4156-b7d9-0ef36cb2cc70",
   "metadata": {},
   "outputs": [],
   "source": []
  },
  {
   "cell_type": "code",
   "execution_count": null,
   "id": "2a49b1a4-d955-441f-8bee-74e8ed888b2f",
   "metadata": {},
   "outputs": [],
   "source": []
  }
 ],
 "metadata": {
  "kernelspec": {
   "display_name": "Python Multi",
   "language": "python",
   "name": "multi"
  },
  "language_info": {
   "codemirror_mode": {
    "name": "ipython",
    "version": 3
   },
   "file_extension": ".py",
   "mimetype": "text/x-python",
   "name": "python",
   "nbconvert_exporter": "python",
   "pygments_lexer": "ipython3",
   "version": "3.7.6"
  }
 },
 "nbformat": 4,
 "nbformat_minor": 5
}
